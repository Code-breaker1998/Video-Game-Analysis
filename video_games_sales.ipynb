{
 "cells": [
  {
   "cell_type": "markdown",
   "metadata": {},
   "source": [
    "# Video game market analysis"
   ]
  },
  {
   "cell_type": "markdown",
   "metadata": {},
   "source": [
    "**A task:**  \n",
    "For an online store of computer games, it is necessary to analyze the market, identify patterns that determine the success of games, determine the user profile for each of the regions, and test working hypotheses. This will allow you to place a bet on a potentially popular product and plan advertising campaigns to help develop the store's business.    \n"
   ]
  },
  {
   "cell_type": "markdown",
   "metadata": {},
   "source": [
    "The data is collected from open sources and recorded in the *games.csv* file. The data includes information from 1983 to 2016. Data for 2016 may not be complete"
   ]
  },
  {
   "cell_type": "markdown",
   "metadata": {},
   "source": [
    "**Data description *games.csv*:**\n",
    "* Name - the name of the game\n",
    "* Platform - platform\n",
    "* Year_of_Release - year of release\n",
    "* Genre - game genre\n",
    "* NA_sales - sales in North America (millions of dollars)\n",
    "* EU_sales - sales in Europe (millions of dollars)\n",
    "* JP_sales - sales in Japan (millions of dollars)\n",
    "* Other_sales - sales in other countries (millions of dollars)\n",
    "* Critic_Score - Critics score (from 0 to 100)\n",
    "* User_Score - user rating (from 0 to 10)\n",
    "* Rating - rating from the ESRB (Entertainment Software Rating Board). This association determines the rating of computer games and assigns them an appropriate age category."
   ]
  },
  {
   "cell_type": "markdown",
   "metadata": {},
   "source": [
    "## Stages of project execution\n",
    "- [1. Getting data](#Step-1.-Getting-data)\n",
    "- [2. Data pre-processing](#Stage-2.-Data-preprocessing)\n",
    "- [3. Exploratory data analysis](#Stage-3.-Exploratory-data-analysis)\n",
    "- [4. User portrait of each region](#Step-4.-User-portrait-of-each-region)\n",
    "- [5. Research of statistical indicators](#Stage-5.-Research-of-statistical-indicators)\n",
    "- [6. Hypothesis testing](#Stage-6.-Hypotheses-testing)\n",
    "- [7. Research results](#Stage-7.-Study-results)"
   ]
  },
  {
   "cell_type": "markdown",
   "metadata": {},
   "source": [
    "\n",
    "## Stage 1. Data acquisition"
   ]
  },
  {
   "cell_type": "markdown",
   "metadata": {},
   "source": [
    "Let's examine the data provided for the project."
   ]
  },
  {
   "cell_type": "code",
   "execution_count": 1,
   "metadata": {},
   "outputs": [],
   "source": [
    "# import libraries\n",
    "import pandas as pd\n",
    "import numpy as np\n",
    "from scipy import stats as st\n",
    "import seaborn as sns\n",
    "import matplotlib.pyplot as plt\n",
    "%matplotlib inline"
   ]
  },
  {
   "cell_type": "markdown",
   "metadata": {},
   "source": [
    "Let's read the games.csv file and store it in the df variable "
   ]
  },
  {
   "cell_type": "code",
   "execution_count": 2,
   "metadata": {},
   "outputs": [],
   "source": [
    "# read data file and save to df\n",
    "df = pd.read_csv('C:\\\\Users\\\\Durgesh\\\\Downloads\\\\Video-Game-Analysis-master\\\\Video-Game-Analysis-master\\\\Video.csv')"
   ]
  },
  {
   "cell_type": "markdown",
   "metadata": {},
   "source": [
    "\n",
    "Getting the first 10 rows of a table."
   ]
  },
  {
   "cell_type": "code",
   "execution_count": 3,
   "metadata": {},
   "outputs": [
    {
     "data": {
      "text/html": [
       "<div>\n",
       "<style scoped>\n",
       "    .dataframe tbody tr th:only-of-type {\n",
       "        vertical-align: middle;\n",
       "    }\n",
       "\n",
       "    .dataframe tbody tr th {\n",
       "        vertical-align: top;\n",
       "    }\n",
       "\n",
       "    .dataframe thead th {\n",
       "        text-align: right;\n",
       "    }\n",
       "</style>\n",
       "<table border=\"1\" class=\"dataframe\">\n",
       "  <thead>\n",
       "    <tr style=\"text-align: right;\">\n",
       "      <th></th>\n",
       "      <th>Name</th>\n",
       "      <th>Platform</th>\n",
       "      <th>Year_of_Release</th>\n",
       "      <th>Genre</th>\n",
       "      <th>Publisher</th>\n",
       "      <th>NA_Sales</th>\n",
       "      <th>EU_Sales</th>\n",
       "      <th>JP_Sales</th>\n",
       "      <th>Other_Sales</th>\n",
       "      <th>Global_Sales</th>\n",
       "      <th>Critic_Score</th>\n",
       "      <th>User_Score</th>\n",
       "      <th>Developer</th>\n",
       "      <th>Rating</th>\n",
       "    </tr>\n",
       "  </thead>\n",
       "  <tbody>\n",
       "    <tr>\n",
       "      <th>0</th>\n",
       "      <td>Wii Sports</td>\n",
       "      <td>Wii</td>\n",
       "      <td>2006.0</td>\n",
       "      <td>Sports</td>\n",
       "      <td>Nintendo</td>\n",
       "      <td>41.36</td>\n",
       "      <td>28.96</td>\n",
       "      <td>3.77</td>\n",
       "      <td>8.45</td>\n",
       "      <td>82.53</td>\n",
       "      <td>76.0</td>\n",
       "      <td>8</td>\n",
       "      <td>Nintendo</td>\n",
       "      <td>E</td>\n",
       "    </tr>\n",
       "    <tr>\n",
       "      <th>1</th>\n",
       "      <td>Super Mario Bros.</td>\n",
       "      <td>NES</td>\n",
       "      <td>1985.0</td>\n",
       "      <td>Platform</td>\n",
       "      <td>Nintendo</td>\n",
       "      <td>29.08</td>\n",
       "      <td>3.58</td>\n",
       "      <td>6.81</td>\n",
       "      <td>0.77</td>\n",
       "      <td>40.24</td>\n",
       "      <td>NaN</td>\n",
       "      <td>NaN</td>\n",
       "      <td>NaN</td>\n",
       "      <td>NaN</td>\n",
       "    </tr>\n",
       "    <tr>\n",
       "      <th>2</th>\n",
       "      <td>Mario Kart Wii</td>\n",
       "      <td>Wii</td>\n",
       "      <td>2008.0</td>\n",
       "      <td>Racing</td>\n",
       "      <td>Nintendo</td>\n",
       "      <td>15.68</td>\n",
       "      <td>12.76</td>\n",
       "      <td>3.79</td>\n",
       "      <td>3.29</td>\n",
       "      <td>35.52</td>\n",
       "      <td>82.0</td>\n",
       "      <td>8.3</td>\n",
       "      <td>Nintendo</td>\n",
       "      <td>E</td>\n",
       "    </tr>\n",
       "    <tr>\n",
       "      <th>3</th>\n",
       "      <td>Wii Sports Resort</td>\n",
       "      <td>Wii</td>\n",
       "      <td>2009.0</td>\n",
       "      <td>Sports</td>\n",
       "      <td>Nintendo</td>\n",
       "      <td>15.61</td>\n",
       "      <td>10.93</td>\n",
       "      <td>3.28</td>\n",
       "      <td>2.95</td>\n",
       "      <td>32.77</td>\n",
       "      <td>80.0</td>\n",
       "      <td>8</td>\n",
       "      <td>Nintendo</td>\n",
       "      <td>E</td>\n",
       "    </tr>\n",
       "    <tr>\n",
       "      <th>4</th>\n",
       "      <td>Pokemon Red/Pokemon Blue</td>\n",
       "      <td>GB</td>\n",
       "      <td>1996.0</td>\n",
       "      <td>Role-Playing</td>\n",
       "      <td>Nintendo</td>\n",
       "      <td>11.27</td>\n",
       "      <td>8.89</td>\n",
       "      <td>10.22</td>\n",
       "      <td>1.00</td>\n",
       "      <td>31.37</td>\n",
       "      <td>NaN</td>\n",
       "      <td>NaN</td>\n",
       "      <td>NaN</td>\n",
       "      <td>NaN</td>\n",
       "    </tr>\n",
       "    <tr>\n",
       "      <th>5</th>\n",
       "      <td>Tetris</td>\n",
       "      <td>GB</td>\n",
       "      <td>1989.0</td>\n",
       "      <td>Puzzle</td>\n",
       "      <td>Nintendo</td>\n",
       "      <td>23.20</td>\n",
       "      <td>2.26</td>\n",
       "      <td>4.22</td>\n",
       "      <td>0.58</td>\n",
       "      <td>30.26</td>\n",
       "      <td>NaN</td>\n",
       "      <td>NaN</td>\n",
       "      <td>NaN</td>\n",
       "      <td>NaN</td>\n",
       "    </tr>\n",
       "    <tr>\n",
       "      <th>6</th>\n",
       "      <td>New Super Mario Bros.</td>\n",
       "      <td>DS</td>\n",
       "      <td>2006.0</td>\n",
       "      <td>Platform</td>\n",
       "      <td>Nintendo</td>\n",
       "      <td>11.28</td>\n",
       "      <td>9.14</td>\n",
       "      <td>6.50</td>\n",
       "      <td>2.88</td>\n",
       "      <td>29.80</td>\n",
       "      <td>89.0</td>\n",
       "      <td>8.5</td>\n",
       "      <td>Nintendo</td>\n",
       "      <td>E</td>\n",
       "    </tr>\n",
       "    <tr>\n",
       "      <th>7</th>\n",
       "      <td>Wii Play</td>\n",
       "      <td>Wii</td>\n",
       "      <td>2006.0</td>\n",
       "      <td>Misc</td>\n",
       "      <td>Nintendo</td>\n",
       "      <td>13.96</td>\n",
       "      <td>9.18</td>\n",
       "      <td>2.93</td>\n",
       "      <td>2.84</td>\n",
       "      <td>28.92</td>\n",
       "      <td>58.0</td>\n",
       "      <td>6.6</td>\n",
       "      <td>Nintendo</td>\n",
       "      <td>E</td>\n",
       "    </tr>\n",
       "    <tr>\n",
       "      <th>8</th>\n",
       "      <td>New Super Mario Bros. Wii</td>\n",
       "      <td>Wii</td>\n",
       "      <td>2009.0</td>\n",
       "      <td>Platform</td>\n",
       "      <td>Nintendo</td>\n",
       "      <td>14.44</td>\n",
       "      <td>6.94</td>\n",
       "      <td>4.70</td>\n",
       "      <td>2.24</td>\n",
       "      <td>28.32</td>\n",
       "      <td>87.0</td>\n",
       "      <td>8.4</td>\n",
       "      <td>Nintendo</td>\n",
       "      <td>E</td>\n",
       "    </tr>\n",
       "    <tr>\n",
       "      <th>9</th>\n",
       "      <td>Duck Hunt</td>\n",
       "      <td>NES</td>\n",
       "      <td>1984.0</td>\n",
       "      <td>Shooter</td>\n",
       "      <td>Nintendo</td>\n",
       "      <td>26.93</td>\n",
       "      <td>0.63</td>\n",
       "      <td>0.28</td>\n",
       "      <td>0.47</td>\n",
       "      <td>28.31</td>\n",
       "      <td>NaN</td>\n",
       "      <td>NaN</td>\n",
       "      <td>NaN</td>\n",
       "      <td>NaN</td>\n",
       "    </tr>\n",
       "  </tbody>\n",
       "</table>\n",
       "</div>"
      ],
      "text/plain": [
       "                        Name Platform  Year_of_Release         Genre  \\\n",
       "0                 Wii Sports      Wii           2006.0        Sports   \n",
       "1          Super Mario Bros.      NES           1985.0      Platform   \n",
       "2             Mario Kart Wii      Wii           2008.0        Racing   \n",
       "3          Wii Sports Resort      Wii           2009.0        Sports   \n",
       "4   Pokemon Red/Pokemon Blue       GB           1996.0  Role-Playing   \n",
       "5                     Tetris       GB           1989.0        Puzzle   \n",
       "6      New Super Mario Bros.       DS           2006.0      Platform   \n",
       "7                   Wii Play      Wii           2006.0          Misc   \n",
       "8  New Super Mario Bros. Wii      Wii           2009.0      Platform   \n",
       "9                  Duck Hunt      NES           1984.0       Shooter   \n",
       "\n",
       "  Publisher  NA_Sales  EU_Sales  JP_Sales  Other_Sales  Global_Sales  \\\n",
       "0  Nintendo     41.36     28.96      3.77         8.45         82.53   \n",
       "1  Nintendo     29.08      3.58      6.81         0.77         40.24   \n",
       "2  Nintendo     15.68     12.76      3.79         3.29         35.52   \n",
       "3  Nintendo     15.61     10.93      3.28         2.95         32.77   \n",
       "4  Nintendo     11.27      8.89     10.22         1.00         31.37   \n",
       "5  Nintendo     23.20      2.26      4.22         0.58         30.26   \n",
       "6  Nintendo     11.28      9.14      6.50         2.88         29.80   \n",
       "7  Nintendo     13.96      9.18      2.93         2.84         28.92   \n",
       "8  Nintendo     14.44      6.94      4.70         2.24         28.32   \n",
       "9  Nintendo     26.93      0.63      0.28         0.47         28.31   \n",
       "\n",
       "   Critic_Score User_Score Developer Rating  \n",
       "0          76.0          8  Nintendo      E  \n",
       "1           NaN        NaN       NaN    NaN  \n",
       "2          82.0        8.3  Nintendo      E  \n",
       "3          80.0          8  Nintendo      E  \n",
       "4           NaN        NaN       NaN    NaN  \n",
       "5           NaN        NaN       NaN    NaN  \n",
       "6          89.0        8.5  Nintendo      E  \n",
       "7          58.0        6.6  Nintendo      E  \n",
       "8          87.0        8.4  Nintendo      E  \n",
       "9           NaN        NaN       NaN    NaN  "
      ]
     },
     "execution_count": 3,
     "metadata": {},
     "output_type": "execute_result"
    }
   ],
   "source": [
    "df.head(10)"
   ]
  },
  {
   "cell_type": "markdown",
   "metadata": {},
   "source": [
    "General information about table data df."
   ]
  },
  {
   "cell_type": "code",
   "execution_count": 4,
   "metadata": {},
   "outputs": [
    {
     "name": "stdout",
     "output_type": "stream",
     "text": [
      "<class 'pandas.core.frame.DataFrame'>\n",
      "RangeIndex: 16719 entries, 0 to 16718\n",
      "Data columns (total 14 columns):\n",
      " #   Column           Non-Null Count  Dtype  \n",
      "---  ------           --------------  -----  \n",
      " 0   Name             16717 non-null  object \n",
      " 1   Platform         16719 non-null  object \n",
      " 2   Year_of_Release  16450 non-null  float64\n",
      " 3   Genre            16717 non-null  object \n",
      " 4   Publisher        16665 non-null  object \n",
      " 5   NA_Sales         16719 non-null  float64\n",
      " 6   EU_Sales         16719 non-null  float64\n",
      " 7   JP_Sales         16719 non-null  float64\n",
      " 8   Other_Sales      16719 non-null  float64\n",
      " 9   Global_Sales     16719 non-null  float64\n",
      " 10  Critic_Score     8137 non-null   float64\n",
      " 11  User_Score       10015 non-null  object \n",
      " 12  Developer        10096 non-null  object \n",
      " 13  Rating           9950 non-null   object \n",
      "dtypes: float64(7), object(7)\n",
      "memory usage: 1.8+ MB\n"
     ]
    }
   ],
   "source": [
    "df.info()"
   ]
  },
  {
   "cell_type": "markdown",
   "metadata": {},
   "source": [
    "Let's take a closer look at the information received.\n",
    "\n",
    "There are 12 columns in the table. There are two data types: non-null object (6 columns) and non-null float64 (6 columns).\n",
    "\n",
    "Let's analyze in detail which columns are in df and what information they contain:\n",
    "* Name - the name of the game\n",
    "* Platform - platform\n",
    "* Year_of_Release - year of release\n",
    "* Publisher - Publishes the game\n",
    "* Genre - game genre\n",
    "* NA_sales - sales in North America (millions of dollars)\n",
    "* EU_sales - sales in Europe (millions of dollars)\n",
    "* JP_sales - sales in Japan (millions of dollars)\n",
    "* Other_sales - sales in other countries (millions of dollars)\n",
    "* Critic_Score - Critics score (from 0 to 100)\n",
    "* User_Score - user rating (from 0 to 10)\n",
    "* Rating - rating from the ESRB (Entertainment Software Rating Board). This association determines the rating of computer games and assigns them an appropriate age category.\n",
    "\n",
    "The number of values ​​in the columns varies. This indicates that there are missing values ​​"
   ]
  },
  {
   "cell_type": "markdown",
   "metadata": {},
   "source": [
    "**Conclusions**"
   ]
  },
  {
   "cell_type": "markdown",
   "metadata": {},
   "source": [
    "Each row of the table contains historical game sales data, user and expert ratings, genres and platforms (such as Xbox or PlayStation), release year, and assigned age rating.\n",
    "\n",
    "The two problems that need to be addressed in the next step are gaps and poor-quality column names.\n",
    "\n",
    "The columns Genre, Platform, Year_of_Release and the breakdown of sales by region are particularly valuable for testing working hypotheses. Using them, we will be able to track how user preferences have changed over time, to compile a portrait of a user in each region. Columns Critic_Score, User_Score, Rating will help to test hypotheses about the impact of game rating on sales depending on the genre and platform of game release."
   ]
  },
  {
   "cell_type": "markdown",
   "metadata": {},
   "source": [
    "## Stage 2. Data preprocessing"
   ]
  },
  {
   "cell_type": "markdown",
   "metadata": {},
   "source": [
    "We will replace the column names, convert the data to the required types, process the gaps (with filling where possible), check the data for duplicates, and also calculate the total sales in all regions and write them in a separate column"
   ]
  },
  {
   "cell_type": "markdown",
   "metadata": {},
   "source": [
    "Get a list of column names"
   ]
  },
  {
   "cell_type": "code",
   "execution_count": 5,
   "metadata": {},
   "outputs": [
    {
     "data": {
      "text/plain": [
       "Index(['Name', 'Platform', 'Year_of_Release', 'Genre', 'Publisher', 'NA_Sales',\n",
       "       'EU_Sales', 'JP_Sales', 'Other_Sales', 'Global_Sales', 'Critic_Score',\n",
       "       'User_Score', 'Developer', 'Rating'],\n",
       "      dtype='object')"
      ]
     },
     "execution_count": 5,
     "metadata": {},
     "output_type": "execute_result"
    }
   ],
   "source": [
    "# list of column names of table df\n",
    "df.columns"
   ]
  },
  {
   "cell_type": "markdown",
   "metadata": {},
   "source": [
    "Column names are capitalized, which is not very convenient for data access. Let's rename the columns for the convenience of further work. Let's check the result."
   ]
  },
  {
   "cell_type": "code",
   "execution_count": 6,
   "metadata": {},
   "outputs": [],
   "source": [
    "# renaming columns\n",
    "df = df.rename(columns=lambda x: x.lower())"
   ]
  },
  {
   "cell_type": "code",
   "execution_count": 7,
   "metadata": {},
   "outputs": [
    {
     "data": {
      "text/plain": [
       "Index(['name', 'platform', 'year_of_release', 'genre', 'publisher', 'na_sales',\n",
       "       'eu_sales', 'jp_sales', 'other_sales', 'global_sales', 'critic_score',\n",
       "       'user_score', 'developer', 'rating'],\n",
       "      dtype='object')"
      ]
     },
     "execution_count": 7,
     "metadata": {},
     "output_type": "execute_result"
    }
   ],
   "source": [
    "# check results - list column names\n",
    "df.columns"
   ]
  },
  {
   "cell_type": "markdown",
   "metadata": {},
   "source": [
    "You need to check for duplicates. If there are, we delete them, and check if everyone is gone"
   ]
  },
  {
   "cell_type": "code",
   "execution_count": 8,
   "metadata": {},
   "outputs": [
    {
     "data": {
      "text/plain": [
       "0"
      ]
     },
     "execution_count": 8,
     "metadata": {},
     "output_type": "execute_result"
    }
   ],
   "source": [
    "# getting total number of duplicates in df table\n",
    "df.duplicated().sum()"
   ]
  },
  {
   "cell_type": "markdown",
   "metadata": {},
   "source": [
    "No duplicates found. Let's take care of the missing values"
   ]
  },
  {
   "cell_type": "markdown",
   "metadata": {},
   "source": [
    "Let's check the data for gaps by calling a set of methods to summarize the missing values."
   ]
  },
  {
   "cell_type": "code",
   "execution_count": 9,
   "metadata": {},
   "outputs": [
    {
     "data": {
      "text/plain": [
       "name                  2\n",
       "platform              0\n",
       "year_of_release     269\n",
       "genre                 2\n",
       "publisher            54\n",
       "na_sales              0\n",
       "eu_sales              0\n",
       "jp_sales              0\n",
       "other_sales           0\n",
       "global_sales          0\n",
       "critic_score       8582\n",
       "user_score         6704\n",
       "developer          6623\n",
       "rating             6769\n",
       "dtype: int64"
      ]
     },
     "execution_count": 9,
     "metadata": {},
     "output_type": "execute_result"
    }
   ],
   "source": [
    "# total number of gaps in table df\n",
    "df.isnull().sum()"
   ]
  },
  {
   "cell_type": "markdown",
   "metadata": {},
   "source": [
    "**Handling missing data in column 'name'**"
   ]
  },
  {
   "cell_type": "markdown",
   "metadata": {},
   "source": [
    "First, let's look at the rows with missing data in the name column."
   ]
  },
  {
   "cell_type": "code",
   "execution_count": 10,
   "metadata": {},
   "outputs": [
    {
     "data": {
      "text/html": [
       "<div>\n",
       "<style scoped>\n",
       "    .dataframe tbody tr th:only-of-type {\n",
       "        vertical-align: middle;\n",
       "    }\n",
       "\n",
       "    .dataframe tbody tr th {\n",
       "        vertical-align: top;\n",
       "    }\n",
       "\n",
       "    .dataframe thead th {\n",
       "        text-align: right;\n",
       "    }\n",
       "</style>\n",
       "<table border=\"1\" class=\"dataframe\">\n",
       "  <thead>\n",
       "    <tr style=\"text-align: right;\">\n",
       "      <th></th>\n",
       "      <th>name</th>\n",
       "      <th>platform</th>\n",
       "      <th>year_of_release</th>\n",
       "      <th>genre</th>\n",
       "      <th>publisher</th>\n",
       "      <th>na_sales</th>\n",
       "      <th>eu_sales</th>\n",
       "      <th>jp_sales</th>\n",
       "      <th>other_sales</th>\n",
       "      <th>global_sales</th>\n",
       "      <th>critic_score</th>\n",
       "      <th>user_score</th>\n",
       "      <th>developer</th>\n",
       "      <th>rating</th>\n",
       "    </tr>\n",
       "  </thead>\n",
       "  <tbody>\n",
       "    <tr>\n",
       "      <th>659</th>\n",
       "      <td>NaN</td>\n",
       "      <td>GEN</td>\n",
       "      <td>1993.0</td>\n",
       "      <td>NaN</td>\n",
       "      <td>Acclaim Entertainment</td>\n",
       "      <td>1.78</td>\n",
       "      <td>0.53</td>\n",
       "      <td>0.00</td>\n",
       "      <td>0.08</td>\n",
       "      <td>2.39</td>\n",
       "      <td>NaN</td>\n",
       "      <td>NaN</td>\n",
       "      <td>NaN</td>\n",
       "      <td>NaN</td>\n",
       "    </tr>\n",
       "    <tr>\n",
       "      <th>14246</th>\n",
       "      <td>NaN</td>\n",
       "      <td>GEN</td>\n",
       "      <td>1993.0</td>\n",
       "      <td>NaN</td>\n",
       "      <td>Acclaim Entertainment</td>\n",
       "      <td>0.00</td>\n",
       "      <td>0.00</td>\n",
       "      <td>0.03</td>\n",
       "      <td>0.00</td>\n",
       "      <td>0.03</td>\n",
       "      <td>NaN</td>\n",
       "      <td>NaN</td>\n",
       "      <td>NaN</td>\n",
       "      <td>NaN</td>\n",
       "    </tr>\n",
       "  </tbody>\n",
       "</table>\n",
       "</div>"
      ],
      "text/plain": [
       "      name platform  year_of_release genre              publisher  na_sales  \\\n",
       "659    NaN      GEN           1993.0   NaN  Acclaim Entertainment      1.78   \n",
       "14246  NaN      GEN           1993.0   NaN  Acclaim Entertainment      0.00   \n",
       "\n",
       "       eu_sales  jp_sales  other_sales  global_sales  critic_score user_score  \\\n",
       "659        0.53      0.00         0.08          2.39           NaN        NaN   \n",
       "14246      0.00      0.03         0.00          0.03           NaN        NaN   \n",
       "\n",
       "      developer rating  \n",
       "659         NaN    NaN  \n",
       "14246       NaN    NaN  "
      ]
     },
     "execution_count": 10,
     "metadata": {},
     "output_type": "execute_result"
    }
   ],
   "source": [
    "# select rows with missing data in the name column\n",
    "df[df['name'].isna()]"
   ]
  },
  {
   "cell_type": "markdown",
   "metadata": {},
   "source": [
    "There are only two such lines. Moreover, these rows contain gaps in other columns (genre, critic_score, user_score, rating) and refer to games released in 1993 on the GEN platform. Thus, these rows will be considered not relevant and not able to significantly affect the results of the analysis, so we will delete these rows."
   ]
  },
  {
   "cell_type": "code",
   "execution_count": 11,
   "metadata": {},
   "outputs": [],
   "source": [
    "# remove rows with missing data in the name column\n",
    "# reset indexes\n",
    "df = df.dropna(subset=['name']).reset_index(drop=True)"
   ]
  },
  {
   "cell_type": "code",
   "execution_count": 12,
   "metadata": {},
   "outputs": [
    {
     "data": {
      "text/plain": [
       "name                  0\n",
       "platform              0\n",
       "year_of_release     269\n",
       "genre                 0\n",
       "publisher            54\n",
       "na_sales              0\n",
       "eu_sales              0\n",
       "jp_sales              0\n",
       "other_sales           0\n",
       "global_sales          0\n",
       "critic_score       8580\n",
       "user_score         6702\n",
       "developer          6621\n",
       "rating             6767\n",
       "dtype: int64"
      ]
     },
     "execution_count": 12,
     "metadata": {},
     "output_type": "execute_result"
    }
   ],
   "source": [
    "# check the total number of gaps in the table df\n",
    "df.isnull().sum()"
   ]
  },
  {
   "cell_type": "markdown",
   "metadata": {},
   "source": [
    "There are no data gaps in the name column now"
   ]
  },
  {
   "cell_type": "markdown",
   "metadata": {},
   "source": [
    "**Handling missing data in 'year_of_release' column**"
   ]
  },
  {
   "cell_type": "markdown",
   "metadata": {},
   "source": [
    "Let's look at data gaps in the year_of_release column"
   ]
  },
  {
   "cell_type": "code",
   "execution_count": 13,
   "metadata": {},
   "outputs": [
    {
     "data": {
      "text/html": [
       "<div>\n",
       "<style scoped>\n",
       "    .dataframe tbody tr th:only-of-type {\n",
       "        vertical-align: middle;\n",
       "    }\n",
       "\n",
       "    .dataframe tbody tr th {\n",
       "        vertical-align: top;\n",
       "    }\n",
       "\n",
       "    .dataframe thead th {\n",
       "        text-align: right;\n",
       "    }\n",
       "</style>\n",
       "<table border=\"1\" class=\"dataframe\">\n",
       "  <thead>\n",
       "    <tr style=\"text-align: right;\">\n",
       "      <th></th>\n",
       "      <th>name</th>\n",
       "      <th>platform</th>\n",
       "      <th>year_of_release</th>\n",
       "      <th>genre</th>\n",
       "      <th>publisher</th>\n",
       "      <th>na_sales</th>\n",
       "      <th>eu_sales</th>\n",
       "      <th>jp_sales</th>\n",
       "      <th>other_sales</th>\n",
       "      <th>global_sales</th>\n",
       "      <th>critic_score</th>\n",
       "      <th>user_score</th>\n",
       "      <th>developer</th>\n",
       "      <th>rating</th>\n",
       "    </tr>\n",
       "  </thead>\n",
       "  <tbody>\n",
       "    <tr>\n",
       "      <th>183</th>\n",
       "      <td>Madden NFL 2004</td>\n",
       "      <td>PS2</td>\n",
       "      <td>NaN</td>\n",
       "      <td>Sports</td>\n",
       "      <td>Electronic Arts</td>\n",
       "      <td>4.26</td>\n",
       "      <td>0.26</td>\n",
       "      <td>0.01</td>\n",
       "      <td>0.71</td>\n",
       "      <td>5.23</td>\n",
       "      <td>94.0</td>\n",
       "      <td>8.5</td>\n",
       "      <td>EA Tiburon</td>\n",
       "      <td>E</td>\n",
       "    </tr>\n",
       "    <tr>\n",
       "      <th>377</th>\n",
       "      <td>FIFA Soccer 2004</td>\n",
       "      <td>PS2</td>\n",
       "      <td>NaN</td>\n",
       "      <td>Sports</td>\n",
       "      <td>Electronic Arts</td>\n",
       "      <td>0.59</td>\n",
       "      <td>2.36</td>\n",
       "      <td>0.04</td>\n",
       "      <td>0.51</td>\n",
       "      <td>3.49</td>\n",
       "      <td>84.0</td>\n",
       "      <td>6.4</td>\n",
       "      <td>EA Canada</td>\n",
       "      <td>E</td>\n",
       "    </tr>\n",
       "    <tr>\n",
       "      <th>456</th>\n",
       "      <td>LEGO Batman: The Videogame</td>\n",
       "      <td>Wii</td>\n",
       "      <td>NaN</td>\n",
       "      <td>Action</td>\n",
       "      <td>Warner Bros. Interactive Entertainment</td>\n",
       "      <td>1.80</td>\n",
       "      <td>0.97</td>\n",
       "      <td>0.00</td>\n",
       "      <td>0.29</td>\n",
       "      <td>3.06</td>\n",
       "      <td>74.0</td>\n",
       "      <td>7.9</td>\n",
       "      <td>Traveller's Tales</td>\n",
       "      <td>E10+</td>\n",
       "    </tr>\n",
       "    <tr>\n",
       "      <th>475</th>\n",
       "      <td>wwe Smackdown vs. Raw 2006</td>\n",
       "      <td>PS2</td>\n",
       "      <td>NaN</td>\n",
       "      <td>Fighting</td>\n",
       "      <td>NaN</td>\n",
       "      <td>1.57</td>\n",
       "      <td>1.02</td>\n",
       "      <td>0.00</td>\n",
       "      <td>0.41</td>\n",
       "      <td>3.00</td>\n",
       "      <td>NaN</td>\n",
       "      <td>NaN</td>\n",
       "      <td>NaN</td>\n",
       "      <td>NaN</td>\n",
       "    </tr>\n",
       "    <tr>\n",
       "      <th>609</th>\n",
       "      <td>Space Invaders</td>\n",
       "      <td>2600</td>\n",
       "      <td>NaN</td>\n",
       "      <td>Shooter</td>\n",
       "      <td>Atari</td>\n",
       "      <td>2.36</td>\n",
       "      <td>0.14</td>\n",
       "      <td>0.00</td>\n",
       "      <td>0.03</td>\n",
       "      <td>2.53</td>\n",
       "      <td>NaN</td>\n",
       "      <td>NaN</td>\n",
       "      <td>NaN</td>\n",
       "      <td>NaN</td>\n",
       "    </tr>\n",
       "    <tr>\n",
       "      <th>...</th>\n",
       "      <td>...</td>\n",
       "      <td>...</td>\n",
       "      <td>...</td>\n",
       "      <td>...</td>\n",
       "      <td>...</td>\n",
       "      <td>...</td>\n",
       "      <td>...</td>\n",
       "      <td>...</td>\n",
       "      <td>...</td>\n",
       "      <td>...</td>\n",
       "      <td>...</td>\n",
       "      <td>...</td>\n",
       "      <td>...</td>\n",
       "      <td>...</td>\n",
       "    </tr>\n",
       "    <tr>\n",
       "      <th>16374</th>\n",
       "      <td>PDC World Championship Darts 2008</td>\n",
       "      <td>PSP</td>\n",
       "      <td>NaN</td>\n",
       "      <td>Sports</td>\n",
       "      <td>Oxygen Interactive</td>\n",
       "      <td>0.01</td>\n",
       "      <td>0.00</td>\n",
       "      <td>0.00</td>\n",
       "      <td>0.00</td>\n",
       "      <td>0.01</td>\n",
       "      <td>43.0</td>\n",
       "      <td>tbd</td>\n",
       "      <td>Oxygen Interactive</td>\n",
       "      <td>E10+</td>\n",
       "    </tr>\n",
       "    <tr>\n",
       "      <th>16407</th>\n",
       "      <td>Freaky Flyers</td>\n",
       "      <td>GC</td>\n",
       "      <td>NaN</td>\n",
       "      <td>Racing</td>\n",
       "      <td>Unknown</td>\n",
       "      <td>0.01</td>\n",
       "      <td>0.00</td>\n",
       "      <td>0.00</td>\n",
       "      <td>0.00</td>\n",
       "      <td>0.01</td>\n",
       "      <td>69.0</td>\n",
       "      <td>6.5</td>\n",
       "      <td>Midway</td>\n",
       "      <td>T</td>\n",
       "    </tr>\n",
       "    <tr>\n",
       "      <th>16450</th>\n",
       "      <td>Inversion</td>\n",
       "      <td>PC</td>\n",
       "      <td>NaN</td>\n",
       "      <td>Shooter</td>\n",
       "      <td>Namco Bandai Games</td>\n",
       "      <td>0.01</td>\n",
       "      <td>0.00</td>\n",
       "      <td>0.00</td>\n",
       "      <td>0.00</td>\n",
       "      <td>0.01</td>\n",
       "      <td>59.0</td>\n",
       "      <td>6.7</td>\n",
       "      <td>Saber Interactive</td>\n",
       "      <td>M</td>\n",
       "    </tr>\n",
       "    <tr>\n",
       "      <th>16460</th>\n",
       "      <td>Hakuouki: Shinsengumi Kitan</td>\n",
       "      <td>PS3</td>\n",
       "      <td>NaN</td>\n",
       "      <td>Adventure</td>\n",
       "      <td>Unknown</td>\n",
       "      <td>0.01</td>\n",
       "      <td>0.00</td>\n",
       "      <td>0.00</td>\n",
       "      <td>0.00</td>\n",
       "      <td>0.01</td>\n",
       "      <td>NaN</td>\n",
       "      <td>NaN</td>\n",
       "      <td>NaN</td>\n",
       "      <td>NaN</td>\n",
       "    </tr>\n",
       "    <tr>\n",
       "      <th>16524</th>\n",
       "      <td>Virtua Quest</td>\n",
       "      <td>GC</td>\n",
       "      <td>NaN</td>\n",
       "      <td>Role-Playing</td>\n",
       "      <td>Unknown</td>\n",
       "      <td>0.01</td>\n",
       "      <td>0.00</td>\n",
       "      <td>0.00</td>\n",
       "      <td>0.00</td>\n",
       "      <td>0.01</td>\n",
       "      <td>55.0</td>\n",
       "      <td>5.5</td>\n",
       "      <td>Artificial Mind and Movement</td>\n",
       "      <td>T</td>\n",
       "    </tr>\n",
       "  </tbody>\n",
       "</table>\n",
       "<p>269 rows × 14 columns</p>\n",
       "</div>"
      ],
      "text/plain": [
       "                                    name platform  year_of_release  \\\n",
       "183                      Madden NFL 2004      PS2              NaN   \n",
       "377                     FIFA Soccer 2004      PS2              NaN   \n",
       "456           LEGO Batman: The Videogame      Wii              NaN   \n",
       "475           wwe Smackdown vs. Raw 2006      PS2              NaN   \n",
       "609                       Space Invaders     2600              NaN   \n",
       "...                                  ...      ...              ...   \n",
       "16374  PDC World Championship Darts 2008      PSP              NaN   \n",
       "16407                      Freaky Flyers       GC              NaN   \n",
       "16450                          Inversion       PC              NaN   \n",
       "16460        Hakuouki: Shinsengumi Kitan      PS3              NaN   \n",
       "16524                       Virtua Quest       GC              NaN   \n",
       "\n",
       "              genre                               publisher  na_sales  \\\n",
       "183          Sports                         Electronic Arts      4.26   \n",
       "377          Sports                         Electronic Arts      0.59   \n",
       "456          Action  Warner Bros. Interactive Entertainment      1.80   \n",
       "475        Fighting                                     NaN      1.57   \n",
       "609         Shooter                                   Atari      2.36   \n",
       "...             ...                                     ...       ...   \n",
       "16374        Sports                      Oxygen Interactive      0.01   \n",
       "16407        Racing                                 Unknown      0.01   \n",
       "16450       Shooter                      Namco Bandai Games      0.01   \n",
       "16460     Adventure                                 Unknown      0.01   \n",
       "16524  Role-Playing                                 Unknown      0.01   \n",
       "\n",
       "       eu_sales  jp_sales  other_sales  global_sales  critic_score user_score  \\\n",
       "183        0.26      0.01         0.71          5.23          94.0        8.5   \n",
       "377        2.36      0.04         0.51          3.49          84.0        6.4   \n",
       "456        0.97      0.00         0.29          3.06          74.0        7.9   \n",
       "475        1.02      0.00         0.41          3.00           NaN        NaN   \n",
       "609        0.14      0.00         0.03          2.53           NaN        NaN   \n",
       "...         ...       ...          ...           ...           ...        ...   \n",
       "16374      0.00      0.00         0.00          0.01          43.0        tbd   \n",
       "16407      0.00      0.00         0.00          0.01          69.0        6.5   \n",
       "16450      0.00      0.00         0.00          0.01          59.0        6.7   \n",
       "16460      0.00      0.00         0.00          0.01           NaN        NaN   \n",
       "16524      0.00      0.00         0.00          0.01          55.0        5.5   \n",
       "\n",
       "                          developer rating  \n",
       "183                      EA Tiburon      E  \n",
       "377                       EA Canada      E  \n",
       "456               Traveller's Tales   E10+  \n",
       "475                             NaN    NaN  \n",
       "609                             NaN    NaN  \n",
       "...                             ...    ...  \n",
       "16374            Oxygen Interactive   E10+  \n",
       "16407                        Midway      T  \n",
       "16450             Saber Interactive      M  \n",
       "16460                           NaN    NaN  \n",
       "16524  Artificial Mind and Movement      T  \n",
       "\n",
       "[269 rows x 14 columns]"
      ]
     },
     "execution_count": 13,
     "metadata": {},
     "output_type": "execute_result"
    }
   ],
   "source": [
    "# select rows with missing data in the year_of_release column \n",
    "df[df['year_of_release'].isna()]"
   ]
  },
  {
   "cell_type": "markdown",
   "metadata": {},
   "source": [
    "We don't have release year data for 269 games.\n",
    "Note that some of the lines in the title of the game have a release year. It can be used as a replacement for missing data for the year_of_release column"
   ]
  },
  {
   "cell_type": "markdown",
   "metadata": {},
   "source": [
    "Let's search for such strings and create a dictionary, where the key will be the index of the string in which the release year is present in the game title itself, and the release year itself will be the value."
   ]
  },
  {
   "cell_type": "code",
   "execution_count": 14,
   "metadata": {},
   "outputs": [
    {
     "name": "stdout",
     "output_type": "stream",
     "text": [
      "index: 183   | year: 2004\n",
      "index: 377   | year: 2004\n",
      "index: 475   | year: 2006\n",
      "index: 1300  | year: 1999\n",
      "index: 1649  | year: 2003\n",
      "index: 2478  | year: 2007\n",
      "index: 2848  | year: 2011\n",
      "index: 3412  | year: 2006\n",
      "index: 3485  | year: 2002\n",
      "index: 4204  | year: 2007\n",
      "index: 4774  | year: 2003\n",
      "index: 5155  | year: 2003\n",
      "index: 5654  | year: 2005\n",
      "index: 5888  | year: 2003\n",
      "index: 8918  | year: 2005\n",
      "index: 13195 | year: 2011\n",
      "index: 13929 | year: 2006\n",
      "index: 15953 | year: 2008\n",
      "index: 16079 | year: 2007\n",
      "index: 16374 | year: 2008\n"
     ]
    }
   ],
   "source": [
    "idx_year = {}  # create an empty dictionary\n",
    "\n",
    "# iterate over rows with missing year information\n",
    "for row in df[df['year_of_release'].isna()].itertuples():\n",
    "    for item in row.name.split(' '):  # split the name of the game into separate words\n",
    "        if item == row.name.split(' ')[-1]:  # take the last word from the list\n",
    "            try:  # if the last word is a number then\n",
    "                if len(item) == 2 or len(item) == 4: # check its length\n",
    "                    item = int(item)  # convert data type\n",
    "                    if item < 21:  # we bring the years of this century to the full date\n",
    "                        item += 2000\n",
    "                    elif item > 80 and item < 100: # we bring the years of the last century to the full date\n",
    "                        item += 1900\n",
    "                    if item >= 1980:  # 1980 -- the minimum year value in our data\n",
    "                        idx_year[row.Index] = item\n",
    "            except:  # if the last word is not a number then we continue to iterate over the rows\n",
    "                continue\n",
    "            \n",
    "            \n",
    "# check the output of the resulting dictionary\n",
    "for key, value in idx_year.items():\n",
    "    print(f'index: {key: <5} | year:{value: >5}')"
   ]
  },
  {
   "cell_type": "markdown",
   "metadata": {},
   "source": [
    "We replace the missing values ​​with those obtained from the names of the games of the year"
   ]
  },
  {
   "cell_type": "code",
   "execution_count": 15,
   "metadata": {},
   "outputs": [],
   "source": [
    "# iterate over the dictionary and make a replacement\n",
    "for key, v in idx_year.items():\n",
    "    df.loc[key, 'year_of_release'] = v"
   ]
  },
  {
   "cell_type": "markdown",
   "metadata": {},
   "source": [
    "Let's check the data for the replacements made in the previous step"
   ]
  },
  {
   "cell_type": "code",
   "execution_count": 16,
   "metadata": {},
   "outputs": [
    {
     "data": {
      "text/html": [
       "<div>\n",
       "<style scoped>\n",
       "    .dataframe tbody tr th:only-of-type {\n",
       "        vertical-align: middle;\n",
       "    }\n",
       "\n",
       "    .dataframe tbody tr th {\n",
       "        vertical-align: top;\n",
       "    }\n",
       "\n",
       "    .dataframe thead th {\n",
       "        text-align: right;\n",
       "    }\n",
       "</style>\n",
       "<table border=\"1\" class=\"dataframe\">\n",
       "  <thead>\n",
       "    <tr style=\"text-align: right;\">\n",
       "      <th></th>\n",
       "      <th>name</th>\n",
       "      <th>platform</th>\n",
       "      <th>year_of_release</th>\n",
       "      <th>genre</th>\n",
       "      <th>publisher</th>\n",
       "      <th>na_sales</th>\n",
       "      <th>eu_sales</th>\n",
       "      <th>jp_sales</th>\n",
       "      <th>other_sales</th>\n",
       "      <th>global_sales</th>\n",
       "      <th>critic_score</th>\n",
       "      <th>user_score</th>\n",
       "      <th>developer</th>\n",
       "      <th>rating</th>\n",
       "    </tr>\n",
       "  </thead>\n",
       "  <tbody>\n",
       "    <tr>\n",
       "      <th>456</th>\n",
       "      <td>LEGO Batman: The Videogame</td>\n",
       "      <td>Wii</td>\n",
       "      <td>NaN</td>\n",
       "      <td>Action</td>\n",
       "      <td>Warner Bros. Interactive Entertainment</td>\n",
       "      <td>1.80</td>\n",
       "      <td>0.97</td>\n",
       "      <td>0.00</td>\n",
       "      <td>0.29</td>\n",
       "      <td>3.06</td>\n",
       "      <td>74.0</td>\n",
       "      <td>7.9</td>\n",
       "      <td>Traveller's Tales</td>\n",
       "      <td>E10+</td>\n",
       "    </tr>\n",
       "    <tr>\n",
       "      <th>609</th>\n",
       "      <td>Space Invaders</td>\n",
       "      <td>2600</td>\n",
       "      <td>NaN</td>\n",
       "      <td>Shooter</td>\n",
       "      <td>Atari</td>\n",
       "      <td>2.36</td>\n",
       "      <td>0.14</td>\n",
       "      <td>0.00</td>\n",
       "      <td>0.03</td>\n",
       "      <td>2.53</td>\n",
       "      <td>NaN</td>\n",
       "      <td>NaN</td>\n",
       "      <td>NaN</td>\n",
       "      <td>NaN</td>\n",
       "    </tr>\n",
       "    <tr>\n",
       "      <th>627</th>\n",
       "      <td>Rock Band</td>\n",
       "      <td>X360</td>\n",
       "      <td>NaN</td>\n",
       "      <td>Misc</td>\n",
       "      <td>Electronic Arts</td>\n",
       "      <td>1.93</td>\n",
       "      <td>0.33</td>\n",
       "      <td>0.00</td>\n",
       "      <td>0.21</td>\n",
       "      <td>2.47</td>\n",
       "      <td>92.0</td>\n",
       "      <td>8.2</td>\n",
       "      <td>Harmonix Music Systems</td>\n",
       "      <td>T</td>\n",
       "    </tr>\n",
       "    <tr>\n",
       "      <th>657</th>\n",
       "      <td>Frogger's Adventures: Temple of the Frog</td>\n",
       "      <td>GBA</td>\n",
       "      <td>NaN</td>\n",
       "      <td>Adventure</td>\n",
       "      <td>Konami Digital Entertainment</td>\n",
       "      <td>2.15</td>\n",
       "      <td>0.18</td>\n",
       "      <td>0.00</td>\n",
       "      <td>0.07</td>\n",
       "      <td>2.39</td>\n",
       "      <td>73.0</td>\n",
       "      <td>tbd</td>\n",
       "      <td>Konami Computer Entertainment Hawaii</td>\n",
       "      <td>E</td>\n",
       "    </tr>\n",
       "    <tr>\n",
       "      <th>677</th>\n",
       "      <td>LEGO Indiana Jones: The Original Adventures</td>\n",
       "      <td>Wii</td>\n",
       "      <td>NaN</td>\n",
       "      <td>Action</td>\n",
       "      <td>LucasArts</td>\n",
       "      <td>1.51</td>\n",
       "      <td>0.61</td>\n",
       "      <td>0.00</td>\n",
       "      <td>0.21</td>\n",
       "      <td>2.34</td>\n",
       "      <td>78.0</td>\n",
       "      <td>6.6</td>\n",
       "      <td>Traveller's Tales</td>\n",
       "      <td>E10+</td>\n",
       "    </tr>\n",
       "    <tr>\n",
       "      <th>...</th>\n",
       "      <td>...</td>\n",
       "      <td>...</td>\n",
       "      <td>...</td>\n",
       "      <td>...</td>\n",
       "      <td>...</td>\n",
       "      <td>...</td>\n",
       "      <td>...</td>\n",
       "      <td>...</td>\n",
       "      <td>...</td>\n",
       "      <td>...</td>\n",
       "      <td>...</td>\n",
       "      <td>...</td>\n",
       "      <td>...</td>\n",
       "      <td>...</td>\n",
       "    </tr>\n",
       "    <tr>\n",
       "      <th>16349</th>\n",
       "      <td>Agarest Senki: Re-appearance</td>\n",
       "      <td>PS3</td>\n",
       "      <td>NaN</td>\n",
       "      <td>Role-Playing</td>\n",
       "      <td>Idea Factory</td>\n",
       "      <td>0.00</td>\n",
       "      <td>0.00</td>\n",
       "      <td>0.01</td>\n",
       "      <td>0.00</td>\n",
       "      <td>0.01</td>\n",
       "      <td>NaN</td>\n",
       "      <td>NaN</td>\n",
       "      <td>NaN</td>\n",
       "      <td>NaN</td>\n",
       "    </tr>\n",
       "    <tr>\n",
       "      <th>16407</th>\n",
       "      <td>Freaky Flyers</td>\n",
       "      <td>GC</td>\n",
       "      <td>NaN</td>\n",
       "      <td>Racing</td>\n",
       "      <td>Unknown</td>\n",
       "      <td>0.01</td>\n",
       "      <td>0.00</td>\n",
       "      <td>0.00</td>\n",
       "      <td>0.00</td>\n",
       "      <td>0.01</td>\n",
       "      <td>69.0</td>\n",
       "      <td>6.5</td>\n",
       "      <td>Midway</td>\n",
       "      <td>T</td>\n",
       "    </tr>\n",
       "    <tr>\n",
       "      <th>16450</th>\n",
       "      <td>Inversion</td>\n",
       "      <td>PC</td>\n",
       "      <td>NaN</td>\n",
       "      <td>Shooter</td>\n",
       "      <td>Namco Bandai Games</td>\n",
       "      <td>0.01</td>\n",
       "      <td>0.00</td>\n",
       "      <td>0.00</td>\n",
       "      <td>0.00</td>\n",
       "      <td>0.01</td>\n",
       "      <td>59.0</td>\n",
       "      <td>6.7</td>\n",
       "      <td>Saber Interactive</td>\n",
       "      <td>M</td>\n",
       "    </tr>\n",
       "    <tr>\n",
       "      <th>16460</th>\n",
       "      <td>Hakuouki: Shinsengumi Kitan</td>\n",
       "      <td>PS3</td>\n",
       "      <td>NaN</td>\n",
       "      <td>Adventure</td>\n",
       "      <td>Unknown</td>\n",
       "      <td>0.01</td>\n",
       "      <td>0.00</td>\n",
       "      <td>0.00</td>\n",
       "      <td>0.00</td>\n",
       "      <td>0.01</td>\n",
       "      <td>NaN</td>\n",
       "      <td>NaN</td>\n",
       "      <td>NaN</td>\n",
       "      <td>NaN</td>\n",
       "    </tr>\n",
       "    <tr>\n",
       "      <th>16524</th>\n",
       "      <td>Virtua Quest</td>\n",
       "      <td>GC</td>\n",
       "      <td>NaN</td>\n",
       "      <td>Role-Playing</td>\n",
       "      <td>Unknown</td>\n",
       "      <td>0.01</td>\n",
       "      <td>0.00</td>\n",
       "      <td>0.00</td>\n",
       "      <td>0.00</td>\n",
       "      <td>0.01</td>\n",
       "      <td>55.0</td>\n",
       "      <td>5.5</td>\n",
       "      <td>Artificial Mind and Movement</td>\n",
       "      <td>T</td>\n",
       "    </tr>\n",
       "  </tbody>\n",
       "</table>\n",
       "<p>249 rows × 14 columns</p>\n",
       "</div>"
      ],
      "text/plain": [
       "                                              name platform  year_of_release  \\\n",
       "456                     LEGO Batman: The Videogame      Wii              NaN   \n",
       "609                                 Space Invaders     2600              NaN   \n",
       "627                                      Rock Band     X360              NaN   \n",
       "657       Frogger's Adventures: Temple of the Frog      GBA              NaN   \n",
       "677    LEGO Indiana Jones: The Original Adventures      Wii              NaN   \n",
       "...                                            ...      ...              ...   \n",
       "16349                 Agarest Senki: Re-appearance      PS3              NaN   \n",
       "16407                                Freaky Flyers       GC              NaN   \n",
       "16450                                    Inversion       PC              NaN   \n",
       "16460                  Hakuouki: Shinsengumi Kitan      PS3              NaN   \n",
       "16524                                 Virtua Quest       GC              NaN   \n",
       "\n",
       "              genre                               publisher  na_sales  \\\n",
       "456          Action  Warner Bros. Interactive Entertainment      1.80   \n",
       "609         Shooter                                   Atari      2.36   \n",
       "627            Misc                         Electronic Arts      1.93   \n",
       "657       Adventure            Konami Digital Entertainment      2.15   \n",
       "677          Action                               LucasArts      1.51   \n",
       "...             ...                                     ...       ...   \n",
       "16349  Role-Playing                            Idea Factory      0.00   \n",
       "16407        Racing                                 Unknown      0.01   \n",
       "16450       Shooter                      Namco Bandai Games      0.01   \n",
       "16460     Adventure                                 Unknown      0.01   \n",
       "16524  Role-Playing                                 Unknown      0.01   \n",
       "\n",
       "       eu_sales  jp_sales  other_sales  global_sales  critic_score user_score  \\\n",
       "456        0.97      0.00         0.29          3.06          74.0        7.9   \n",
       "609        0.14      0.00         0.03          2.53           NaN        NaN   \n",
       "627        0.33      0.00         0.21          2.47          92.0        8.2   \n",
       "657        0.18      0.00         0.07          2.39          73.0        tbd   \n",
       "677        0.61      0.00         0.21          2.34          78.0        6.6   \n",
       "...         ...       ...          ...           ...           ...        ...   \n",
       "16349      0.00      0.01         0.00          0.01           NaN        NaN   \n",
       "16407      0.00      0.00         0.00          0.01          69.0        6.5   \n",
       "16450      0.00      0.00         0.00          0.01          59.0        6.7   \n",
       "16460      0.00      0.00         0.00          0.01           NaN        NaN   \n",
       "16524      0.00      0.00         0.00          0.01          55.0        5.5   \n",
       "\n",
       "                                  developer rating  \n",
       "456                       Traveller's Tales   E10+  \n",
       "609                                     NaN    NaN  \n",
       "627                  Harmonix Music Systems      T  \n",
       "657    Konami Computer Entertainment Hawaii      E  \n",
       "677                       Traveller's Tales   E10+  \n",
       "...                                     ...    ...  \n",
       "16349                                   NaN    NaN  \n",
       "16407                                Midway      T  \n",
       "16450                     Saber Interactive      M  \n",
       "16460                                   NaN    NaN  \n",
       "16524          Artificial Mind and Movement      T  \n",
       "\n",
       "[249 rows x 14 columns]"
      ]
     },
     "execution_count": 16,
     "metadata": {},
     "output_type": "execute_result"
    }
   ],
   "source": [
    "# select rows with missing data in the year_of_release column \n",
    "df[df['year_of_release'].isna()]"
   ]
  },
  {
   "cell_type": "markdown",
   "metadata": {},
   "source": [
    "Now we don't have release year data for 249 games. This is less than after the previous check, which means the replacements were completed successfully.\n",
    "It is possible to find the release years of games for the remaining 249 rows using the parsing of pages on the Internet, but at this stage we consider it possible to simply get rid of these rows and continue working with the existing dataset. because 249 rows is only about 1.49% of the total amount of data, which should not significantly affect the results of the study. If at some stage we realize that we will not have enough data, then we will return to the issue of parsing pages on the Internet to find the missing information."
   ]
  },
  {
   "cell_type": "code",
   "execution_count": 17,
   "metadata": {},
   "outputs": [],
   "source": [
    "# delete rows with missing data in the year_of_release column\n",
    "# reset indexes\n",
    "df = df.dropna(subset=['year_of_release']).reset_index(drop=True)"
   ]
  },
  {
   "cell_type": "code",
   "execution_count": 18,
   "metadata": {},
   "outputs": [
    {
     "data": {
      "text/plain": [
       "name                  0\n",
       "platform              0\n",
       "year_of_release       0\n",
       "genre                 0\n",
       "publisher            34\n",
       "na_sales              0\n",
       "eu_sales              0\n",
       "jp_sales              0\n",
       "other_sales           0\n",
       "global_sales          0\n",
       "critic_score       8470\n",
       "user_score         6613\n",
       "developer          6546\n",
       "rating             6685\n",
       "dtype: int64"
      ]
     },
     "execution_count": 18,
     "metadata": {},
     "output_type": "execute_result"
    }
   ],
   "source": [
    "# check the total number of gaps in the table df\n",
    "df.isnull().sum()"
   ]
  },
  {
   "cell_type": "markdown",
   "metadata": {},
   "source": [
    "There are no data gaps in the year_of_release column now"
   ]
  },
  {
   "cell_type": "markdown",
   "metadata": {},
   "source": [
    "**Handling data gaps in the 'critic_score' column**"
   ]
  },
  {
   "cell_type": "markdown",
   "metadata": {},
   "source": [
    "Let's look at data gaps in the critic_score column"
   ]
  },
  {
   "cell_type": "code",
   "execution_count": 19,
   "metadata": {},
   "outputs": [
    {
     "data": {
      "text/html": [
       "<div>\n",
       "<style scoped>\n",
       "    .dataframe tbody tr th:only-of-type {\n",
       "        vertical-align: middle;\n",
       "    }\n",
       "\n",
       "    .dataframe tbody tr th {\n",
       "        vertical-align: top;\n",
       "    }\n",
       "\n",
       "    .dataframe thead th {\n",
       "        text-align: right;\n",
       "    }\n",
       "</style>\n",
       "<table border=\"1\" class=\"dataframe\">\n",
       "  <thead>\n",
       "    <tr style=\"text-align: right;\">\n",
       "      <th></th>\n",
       "      <th>name</th>\n",
       "      <th>platform</th>\n",
       "      <th>year_of_release</th>\n",
       "      <th>genre</th>\n",
       "      <th>publisher</th>\n",
       "      <th>na_sales</th>\n",
       "      <th>eu_sales</th>\n",
       "      <th>jp_sales</th>\n",
       "      <th>other_sales</th>\n",
       "      <th>global_sales</th>\n",
       "      <th>critic_score</th>\n",
       "      <th>user_score</th>\n",
       "      <th>developer</th>\n",
       "      <th>rating</th>\n",
       "    </tr>\n",
       "  </thead>\n",
       "  <tbody>\n",
       "    <tr>\n",
       "      <th>1</th>\n",
       "      <td>Super Mario Bros.</td>\n",
       "      <td>NES</td>\n",
       "      <td>1985.0</td>\n",
       "      <td>Platform</td>\n",
       "      <td>Nintendo</td>\n",
       "      <td>29.08</td>\n",
       "      <td>3.58</td>\n",
       "      <td>6.81</td>\n",
       "      <td>0.77</td>\n",
       "      <td>40.24</td>\n",
       "      <td>NaN</td>\n",
       "      <td>NaN</td>\n",
       "      <td>NaN</td>\n",
       "      <td>NaN</td>\n",
       "    </tr>\n",
       "    <tr>\n",
       "      <th>4</th>\n",
       "      <td>Pokemon Red/Pokemon Blue</td>\n",
       "      <td>GB</td>\n",
       "      <td>1996.0</td>\n",
       "      <td>Role-Playing</td>\n",
       "      <td>Nintendo</td>\n",
       "      <td>11.27</td>\n",
       "      <td>8.89</td>\n",
       "      <td>10.22</td>\n",
       "      <td>1.00</td>\n",
       "      <td>31.37</td>\n",
       "      <td>NaN</td>\n",
       "      <td>NaN</td>\n",
       "      <td>NaN</td>\n",
       "      <td>NaN</td>\n",
       "    </tr>\n",
       "    <tr>\n",
       "      <th>5</th>\n",
       "      <td>Tetris</td>\n",
       "      <td>GB</td>\n",
       "      <td>1989.0</td>\n",
       "      <td>Puzzle</td>\n",
       "      <td>Nintendo</td>\n",
       "      <td>23.20</td>\n",
       "      <td>2.26</td>\n",
       "      <td>4.22</td>\n",
       "      <td>0.58</td>\n",
       "      <td>30.26</td>\n",
       "      <td>NaN</td>\n",
       "      <td>NaN</td>\n",
       "      <td>NaN</td>\n",
       "      <td>NaN</td>\n",
       "    </tr>\n",
       "    <tr>\n",
       "      <th>9</th>\n",
       "      <td>Duck Hunt</td>\n",
       "      <td>NES</td>\n",
       "      <td>1984.0</td>\n",
       "      <td>Shooter</td>\n",
       "      <td>Nintendo</td>\n",
       "      <td>26.93</td>\n",
       "      <td>0.63</td>\n",
       "      <td>0.28</td>\n",
       "      <td>0.47</td>\n",
       "      <td>28.31</td>\n",
       "      <td>NaN</td>\n",
       "      <td>NaN</td>\n",
       "      <td>NaN</td>\n",
       "      <td>NaN</td>\n",
       "    </tr>\n",
       "    <tr>\n",
       "      <th>10</th>\n",
       "      <td>Nintendogs</td>\n",
       "      <td>DS</td>\n",
       "      <td>2005.0</td>\n",
       "      <td>Simulation</td>\n",
       "      <td>Nintendo</td>\n",
       "      <td>9.05</td>\n",
       "      <td>10.95</td>\n",
       "      <td>1.93</td>\n",
       "      <td>2.74</td>\n",
       "      <td>24.67</td>\n",
       "      <td>NaN</td>\n",
       "      <td>NaN</td>\n",
       "      <td>NaN</td>\n",
       "      <td>NaN</td>\n",
       "    </tr>\n",
       "    <tr>\n",
       "      <th>...</th>\n",
       "      <td>...</td>\n",
       "      <td>...</td>\n",
       "      <td>...</td>\n",
       "      <td>...</td>\n",
       "      <td>...</td>\n",
       "      <td>...</td>\n",
       "      <td>...</td>\n",
       "      <td>...</td>\n",
       "      <td>...</td>\n",
       "      <td>...</td>\n",
       "      <td>...</td>\n",
       "      <td>...</td>\n",
       "      <td>...</td>\n",
       "      <td>...</td>\n",
       "    </tr>\n",
       "    <tr>\n",
       "      <th>16463</th>\n",
       "      <td>Samurai Warriors: Sanada Maru</td>\n",
       "      <td>PS3</td>\n",
       "      <td>2016.0</td>\n",
       "      <td>Action</td>\n",
       "      <td>Tecmo Koei</td>\n",
       "      <td>0.00</td>\n",
       "      <td>0.00</td>\n",
       "      <td>0.01</td>\n",
       "      <td>0.00</td>\n",
       "      <td>0.01</td>\n",
       "      <td>NaN</td>\n",
       "      <td>NaN</td>\n",
       "      <td>NaN</td>\n",
       "      <td>NaN</td>\n",
       "    </tr>\n",
       "    <tr>\n",
       "      <th>16464</th>\n",
       "      <td>LMA Manager 2007</td>\n",
       "      <td>X360</td>\n",
       "      <td>2006.0</td>\n",
       "      <td>Sports</td>\n",
       "      <td>Codemasters</td>\n",
       "      <td>0.00</td>\n",
       "      <td>0.01</td>\n",
       "      <td>0.00</td>\n",
       "      <td>0.00</td>\n",
       "      <td>0.01</td>\n",
       "      <td>NaN</td>\n",
       "      <td>NaN</td>\n",
       "      <td>NaN</td>\n",
       "      <td>NaN</td>\n",
       "    </tr>\n",
       "    <tr>\n",
       "      <th>16465</th>\n",
       "      <td>Haitaka no Psychedelica</td>\n",
       "      <td>PSV</td>\n",
       "      <td>2016.0</td>\n",
       "      <td>Adventure</td>\n",
       "      <td>Idea Factory</td>\n",
       "      <td>0.00</td>\n",
       "      <td>0.00</td>\n",
       "      <td>0.01</td>\n",
       "      <td>0.00</td>\n",
       "      <td>0.01</td>\n",
       "      <td>NaN</td>\n",
       "      <td>NaN</td>\n",
       "      <td>NaN</td>\n",
       "      <td>NaN</td>\n",
       "    </tr>\n",
       "    <tr>\n",
       "      <th>16466</th>\n",
       "      <td>Spirits &amp; Spells</td>\n",
       "      <td>GBA</td>\n",
       "      <td>2003.0</td>\n",
       "      <td>Platform</td>\n",
       "      <td>Wanadoo</td>\n",
       "      <td>0.01</td>\n",
       "      <td>0.00</td>\n",
       "      <td>0.00</td>\n",
       "      <td>0.00</td>\n",
       "      <td>0.01</td>\n",
       "      <td>NaN</td>\n",
       "      <td>NaN</td>\n",
       "      <td>NaN</td>\n",
       "      <td>NaN</td>\n",
       "    </tr>\n",
       "    <tr>\n",
       "      <th>16467</th>\n",
       "      <td>Winning Post 8 2016</td>\n",
       "      <td>PSV</td>\n",
       "      <td>2016.0</td>\n",
       "      <td>Simulation</td>\n",
       "      <td>Tecmo Koei</td>\n",
       "      <td>0.00</td>\n",
       "      <td>0.00</td>\n",
       "      <td>0.01</td>\n",
       "      <td>0.00</td>\n",
       "      <td>0.01</td>\n",
       "      <td>NaN</td>\n",
       "      <td>NaN</td>\n",
       "      <td>NaN</td>\n",
       "      <td>NaN</td>\n",
       "    </tr>\n",
       "  </tbody>\n",
       "</table>\n",
       "<p>8470 rows × 14 columns</p>\n",
       "</div>"
      ],
      "text/plain": [
       "                                name platform  year_of_release         genre  \\\n",
       "1                  Super Mario Bros.      NES           1985.0      Platform   \n",
       "4           Pokemon Red/Pokemon Blue       GB           1996.0  Role-Playing   \n",
       "5                             Tetris       GB           1989.0        Puzzle   \n",
       "9                          Duck Hunt      NES           1984.0       Shooter   \n",
       "10                        Nintendogs       DS           2005.0    Simulation   \n",
       "...                              ...      ...              ...           ...   \n",
       "16463  Samurai Warriors: Sanada Maru      PS3           2016.0        Action   \n",
       "16464               LMA Manager 2007     X360           2006.0        Sports   \n",
       "16465        Haitaka no Psychedelica      PSV           2016.0     Adventure   \n",
       "16466               Spirits & Spells      GBA           2003.0      Platform   \n",
       "16467            Winning Post 8 2016      PSV           2016.0    Simulation   \n",
       "\n",
       "          publisher  na_sales  eu_sales  jp_sales  other_sales  global_sales  \\\n",
       "1          Nintendo     29.08      3.58      6.81         0.77         40.24   \n",
       "4          Nintendo     11.27      8.89     10.22         1.00         31.37   \n",
       "5          Nintendo     23.20      2.26      4.22         0.58         30.26   \n",
       "9          Nintendo     26.93      0.63      0.28         0.47         28.31   \n",
       "10         Nintendo      9.05     10.95      1.93         2.74         24.67   \n",
       "...             ...       ...       ...       ...          ...           ...   \n",
       "16463    Tecmo Koei      0.00      0.00      0.01         0.00          0.01   \n",
       "16464   Codemasters      0.00      0.01      0.00         0.00          0.01   \n",
       "16465  Idea Factory      0.00      0.00      0.01         0.00          0.01   \n",
       "16466       Wanadoo      0.01      0.00      0.00         0.00          0.01   \n",
       "16467    Tecmo Koei      0.00      0.00      0.01         0.00          0.01   \n",
       "\n",
       "       critic_score user_score developer rating  \n",
       "1               NaN        NaN       NaN    NaN  \n",
       "4               NaN        NaN       NaN    NaN  \n",
       "5               NaN        NaN       NaN    NaN  \n",
       "9               NaN        NaN       NaN    NaN  \n",
       "10              NaN        NaN       NaN    NaN  \n",
       "...             ...        ...       ...    ...  \n",
       "16463           NaN        NaN       NaN    NaN  \n",
       "16464           NaN        NaN       NaN    NaN  \n",
       "16465           NaN        NaN       NaN    NaN  \n",
       "16466           NaN        NaN       NaN    NaN  \n",
       "16467           NaN        NaN       NaN    NaN  \n",
       "\n",
       "[8470 rows x 14 columns]"
      ]
     },
     "execution_count": 19,
     "metadata": {},
     "output_type": "execute_result"
    }
   ],
   "source": [
    "# select rows with missing data in the critic_score column\n",
    "df[df['critic_score'].isna()]"
   ]
  },
  {
   "cell_type": "markdown",
   "metadata": {},
   "source": [
    "We don't have critical rating data for 8470 games, which is about 51% of games."
   ]
  },
  {
   "cell_type": "markdown",
   "metadata": {},
   "source": [
    "Let's try to find a correlation in the available data between critics' ratings and:\n",
    "* year of release of the game (suddenly in some years the critics were more favorable?)\n",
    "* sales in North America (na_sales)\n",
    "* sales in Europe (eu_sales)\n",
    "* sales in Japan (jp_sales)\n",
    "* sales in other regions (other_sales)\n",
    "* total sales worldwide (global_sales)"
   ]
  },
  {
   "cell_type": "markdown",
   "metadata": {},
   "source": [
    "Finding Pearson's Correlation Coefficient (year of game release VS critics' score)"
   ]
  },
  {
   "cell_type": "code",
   "execution_count": 20,
   "metadata": {
    "scrolled": false
   },
   "outputs": [
    {
     "data": {
      "text/plain": [
       "0.010353467558889762"
      ]
     },
     "execution_count": 20,
     "metadata": {},
     "output_type": "execute_result"
    }
   ],
   "source": [
    "df['year_of_release'].corr(df['critic_score'])"
   ]
  },
  {
   "cell_type": "markdown",
   "metadata": {},
   "source": [
    "The correlation is very weak. Its almost complete absence."
   ]
  },
  {
   "cell_type": "markdown",
   "metadata": {},
   "source": [
    "Finding the Pearson Correlation Coefficient (North American Sales VS Critics' Rating)"
   ]
  },
  {
   "cell_type": "code",
   "execution_count": 21,
   "metadata": {},
   "outputs": [
    {
     "data": {
      "text/plain": [
       "0.24081751449345798"
      ]
     },
     "execution_count": 21,
     "metadata": {},
     "output_type": "execute_result"
    }
   ],
   "source": [
    "df['na_sales'].corr(df['critic_score'])"
   ]
  },
  {
   "cell_type": "markdown",
   "metadata": {},
   "source": [
    "Correlation is weak"
   ]
  },
  {
   "cell_type": "markdown",
   "metadata": {},
   "source": [
    "Finding Pearson's correlation coefficient (sales in Europe VS critics' score)"
   ]
  },
  {
   "cell_type": "code",
   "execution_count": 22,
   "metadata": {},
   "outputs": [
    {
     "data": {
      "text/plain": [
       "0.221334645150233"
      ]
     },
     "execution_count": 22,
     "metadata": {},
     "output_type": "execute_result"
    }
   ],
   "source": [
    "df['eu_sales'].corr(df['critic_score'])"
   ]
  },
  {
   "cell_type": "markdown",
   "metadata": {},
   "source": [
    "Correlation is weak"
   ]
  },
  {
   "cell_type": "markdown",
   "metadata": {},
   "source": [
    "Finding the Pearson Correlation Coefficient (Sales in Japan VS Critics' Rating)"
   ]
  },
  {
   "cell_type": "code",
   "execution_count": 23,
   "metadata": {},
   "outputs": [
    {
     "data": {
      "text/plain": [
       "0.15319263872334976"
      ]
     },
     "execution_count": 23,
     "metadata": {},
     "output_type": "execute_result"
    }
   ],
   "source": [
    "df['jp_sales'].corr(df['critic_score'])"
   ]
  },
  {
   "cell_type": "markdown",
   "metadata": {},
   "source": [
    "Correlation is weak"
   ]
  },
  {
   "cell_type": "markdown",
   "metadata": {},
   "source": [
    "Finding Pearson's correlation coefficient (sales in other regions VS critics' score)"
   ]
  },
  {
   "cell_type": "code",
   "execution_count": 24,
   "metadata": {},
   "outputs": [
    {
     "data": {
      "text/plain": [
       "0.19891456778301783"
      ]
     },
     "execution_count": 24,
     "metadata": {},
     "output_type": "execute_result"
    }
   ],
   "source": [
    "df['other_sales'].corr(df['critic_score'])"
   ]
  },
  {
   "cell_type": "markdown",
   "metadata": {},
   "source": [
    "Correlation is weak"
   ]
  },
  {
   "cell_type": "markdown",
   "metadata": {},
   "source": [
    "Finding Pearson's Correlation Coefficient (Total Worldwide Sales VS Critics' Score)"
   ]
  },
  {
   "cell_type": "code",
   "execution_count": 25,
   "metadata": {},
   "outputs": [
    {
     "data": {
      "text/plain": [
       "0.2458114611811769"
      ]
     },
     "execution_count": 25,
     "metadata": {},
     "output_type": "execute_result"
    }
   ],
   "source": [
    "df['global_sales'].corr(df['critic_score'])"
   ]
  },
  {
   "cell_type": "markdown",
   "metadata": {},
   "source": [
    "Correlation is weak"
   ]
  },
  {
   "cell_type": "markdown",
   "metadata": {},
   "source": [
    "In all the cases considered, we obtained either a very weak or just a weak correlation between the considered features and the critics' assessment:\n",
    "* minimum 'game release year VS critic score': 0.010..\n",
    "* maximum 'Total Worldwide Sales VS Critics' Rating': 0.245..\n",
    "\n",
    "Therefore, averaging critics' scores on one of these criteria to fill in data gaps does not seem appropriate."
   ]
  },
  {
   "cell_type": "markdown",
   "metadata": {},
   "source": [
    "**Handling data gaps in the 'user_score' column**"
   ]
  },
  {
   "cell_type": "markdown",
   "metadata": {},
   "source": [
    "Now let's look at the missing data in the user_score column."
   ]
  },
  {
   "cell_type": "markdown",
   "metadata": {},
   "source": [
    "First, let's look at the values ​​in the user_score column."
   ]
  },
  {
   "cell_type": "code",
   "execution_count": 26,
   "metadata": {},
   "outputs": [
    {
     "data": {
      "text/plain": [
       "tbd    2379\n",
       "7.8     322\n",
       "8       285\n",
       "8.2     277\n",
       "8.3     252\n",
       "       ... \n",
       "9.6       2\n",
       "0.3       2\n",
       "0.6       2\n",
       "0         1\n",
       "9.7       1\n",
       "Name: user_score, Length: 96, dtype: int64"
      ]
     },
     "execution_count": 26,
     "metadata": {},
     "output_type": "execute_result"
    }
   ],
   "source": [
    "df.user_score.value_counts()"
   ]
  },
  {
   "cell_type": "markdown",
   "metadata": {},
   "source": [
    "The most common value is not the user's numerical score, but the string 'tbd', meaning 'to be defined'. In this situation, you can use the property of the average: if a number equal to the average is added to the dataset, then the new average of the dataset will not change, so we can replace tbd with the average in the same way as in cases where there are no NaN values."
   ]
  },
  {
   "cell_type": "code",
   "execution_count": 27,
   "metadata": {},
   "outputs": [],
   "source": [
    "# replace 'tbd' with NaN\n",
    "df = df.replace('tbd', np.nan)"
   ]
  },
  {
   "cell_type": "code",
   "execution_count": 28,
   "metadata": {},
   "outputs": [
    {
     "data": {
      "text/plain": [
       "name                  0\n",
       "platform              0\n",
       "year_of_release       0\n",
       "genre                 0\n",
       "publisher            34\n",
       "na_sales              0\n",
       "eu_sales              0\n",
       "jp_sales              0\n",
       "other_sales           0\n",
       "global_sales          0\n",
       "critic_score       8470\n",
       "user_score         8992\n",
       "developer          6546\n",
       "rating             6685\n",
       "dtype: int64"
      ]
     },
     "execution_count": 28,
     "metadata": {},
     "output_type": "execute_result"
    }
   ],
   "source": [
    "# check the success of the replacement by the total number of gaps in the df table\n",
    "df.isnull().sum()"
   ]
  },
  {
   "cell_type": "markdown",
   "metadata": {},
   "source": [
    "Change data type 'user_score' from string to floating point numbers"
   ]
  },
  {
   "cell_type": "code",
   "execution_count": 29,
   "metadata": {},
   "outputs": [],
   "source": [
    "df['user_score'] = df.user_score.astype('float')"
   ]
  },
  {
   "cell_type": "markdown",
   "metadata": {},
   "source": [
    "Checking the success of changing the 'user_score' data type"
   ]
  },
  {
   "cell_type": "code",
   "execution_count": 30,
   "metadata": {},
   "outputs": [
    {
     "data": {
      "text/plain": [
       "name                object\n",
       "platform            object\n",
       "year_of_release    float64\n",
       "genre               object\n",
       "publisher           object\n",
       "na_sales           float64\n",
       "eu_sales           float64\n",
       "jp_sales           float64\n",
       "other_sales        float64\n",
       "global_sales       float64\n",
       "critic_score       float64\n",
       "user_score         float64\n",
       "developer           object\n",
       "rating              object\n",
       "dtype: object"
      ]
     },
     "execution_count": 30,
     "metadata": {},
     "output_type": "execute_result"
    }
   ],
   "source": [
    "df.dtypes"
   ]
  },
  {
   "cell_type": "markdown",
   "metadata": {},
   "source": [
    "\n",
    "The data type has been changed from object to float64. Now we can perform mathematical operations on the user_score column data"
   ]
  },
  {
   "cell_type": "markdown",
   "metadata": {},
   "source": [
    "Finding the Pearson Correlation Coefficient (Game Release Year VS User Rating)"
   ]
  },
  {
   "cell_type": "code",
   "execution_count": 31,
   "metadata": {},
   "outputs": [
    {
     "data": {
      "text/plain": [
       "-0.2682635599589682"
      ]
     },
     "execution_count": 31,
     "metadata": {},
     "output_type": "execute_result"
    }
   ],
   "source": [
    "df['year_of_release'].corr(df['user_score'])"
   ]
  },
  {
   "cell_type": "markdown",
   "metadata": {},
   "source": [
    "We have a weak negative correlation"
   ]
  },
  {
   "cell_type": "markdown",
   "metadata": {},
   "source": [
    "Finding the Pearson Correlation Coefficient (North American Sales VS User Ratings)"
   ]
  },
  {
   "cell_type": "code",
   "execution_count": 32,
   "metadata": {},
   "outputs": [
    {
     "data": {
      "text/plain": [
       "0.08570745189151249"
      ]
     },
     "execution_count": 32,
     "metadata": {},
     "output_type": "execute_result"
    }
   ],
   "source": [
    "df['na_sales'].corr(df['user_score'])"
   ]
  },
  {
   "cell_type": "markdown",
   "metadata": {},
   "source": [
    "Correlation is very weak"
   ]
  },
  {
   "cell_type": "markdown",
   "metadata": {},
   "source": [
    "Finding the Pearson correlation coefficient (sales in Europe VS user rating)"
   ]
  },
  {
   "cell_type": "code",
   "execution_count": 33,
   "metadata": {},
   "outputs": [
    {
     "data": {
      "text/plain": [
       "0.055267291304242364"
      ]
     },
     "execution_count": 33,
     "metadata": {},
     "output_type": "execute_result"
    }
   ],
   "source": [
    "df['eu_sales'].corr(df['user_score'])"
   ]
  },
  {
   "cell_type": "markdown",
   "metadata": {},
   "source": [
    "Correlation is very weak"
   ]
  },
  {
   "cell_type": "markdown",
   "metadata": {},
   "source": [
    "Finding the Pearson Correlation Coefficient (Sales in Japan VS User Ratings)"
   ]
  },
  {
   "cell_type": "code",
   "execution_count": 34,
   "metadata": {},
   "outputs": [
    {
     "data": {
      "text/plain": [
       "0.12617410277268787"
      ]
     },
     "execution_count": 34,
     "metadata": {},
     "output_type": "execute_result"
    }
   ],
   "source": [
    "df['jp_sales'].corr(df['user_score'])"
   ]
  },
  {
   "cell_type": "markdown",
   "metadata": {},
   "source": [
    "Correlation is very weak"
   ]
  },
  {
   "cell_type": "markdown",
   "metadata": {},
   "source": [
    "Finding the Pearson correlation coefficient (sales in other regions VS user rating)"
   ]
  },
  {
   "cell_type": "code",
   "execution_count": 35,
   "metadata": {},
   "outputs": [
    {
     "data": {
      "text/plain": [
       "0.05701154340120891"
      ]
     },
     "execution_count": 35,
     "metadata": {},
     "output_type": "execute_result"
    }
   ],
   "source": [
    "df['other_sales'].corr(df['user_score'])"
   ]
  },
  {
   "cell_type": "markdown",
   "metadata": {},
   "source": [
    "Correlation is very weak"
   ]
  },
  {
   "cell_type": "markdown",
   "metadata": {},
   "source": [
    "Finding the Pearson Correlation Coefficient (Total Worldwide Sales VS User Ratings)"
   ]
  },
  {
   "cell_type": "code",
   "execution_count": 36,
   "metadata": {},
   "outputs": [
    {
     "data": {
      "text/plain": [
       "0.08794019648086576"
      ]
     },
     "execution_count": 36,
     "metadata": {},
     "output_type": "execute_result"
    }
   ],
   "source": [
    "df['global_sales'].corr(df['user_score'])"
   ]
  },
  {
   "cell_type": "markdown",
   "metadata": {},
   "source": [
    "Correlation is very weak"
   ]
  },
  {
   "cell_type": "markdown",
   "metadata": {},
   "source": [
    "Finding the Pearson Correlation Coefficient (Critic Score VS User Score)"
   ]
  },
  {
   "cell_type": "code",
   "execution_count": 37,
   "metadata": {},
   "outputs": [
    {
     "data": {
      "text/plain": [
       "0.5792013058120697"
      ]
     },
     "execution_count": 37,
     "metadata": {},
     "output_type": "execute_result"
    }
   ],
   "source": [
    "df['critic_score'].corr(df['user_score'])"
   ]
  },
  {
   "cell_type": "markdown",
   "metadata": {},
   "source": [
    "Correlation average"
   ]
  },
  {
   "cell_type": "markdown",
   "metadata": {},
   "source": [
    "Let's look at the distributions of user ratings and critic ratings and their dependencies"
   ]
  },
  {
   "cell_type": "code",
   "execution_count": 38,
   "metadata": {},
   "outputs": [
    {
     "data": {
      "image/png": "[encoded data removed]",
      "text/plain": [
       "<Figure size 648x648 with 4 Axes>"
      ]
     },
     "metadata": {
      "needs_background": "light"
     },
     "output_type": "display_data"
    }
   ],
   "source": [
    "pd.plotting.scatter_matrix(df[['critic_score', 'user_score']], figsize=(9,9));"
   ]
  },
  {
   "cell_type": "markdown",
   "metadata": {},
   "source": [
    "The distributions are close to normal. The correlation is moderate"
   ]
  },
  {
   "cell_type": "markdown",
   "metadata": {},
   "source": [
    "In all the cases considered, we obtained either a very weak or simply a weak correlation between the features considered and user ratings. We managed to obtain an average correlation only between user ratings and critic ratings:\n",
    "* minimum 'sales in Europe of the game VS user rating': 0.055..\n",
    "* Max 'Critic Rating VS User Rating': 0.579..\n",
    "\n",
    "We did not get a high or very high correlation for any of the studied traits. Therefore, averaging user ratings against one of these criteria to fill in data gaps is not appropriate."
   ]
  },
  {
   "cell_type": "markdown",
   "metadata": {},
   "source": [
    "**Handling missing data in the 'rating','publisher' and 'developer' columns**"
   ]
  },
  {
   "cell_type": "markdown",
   "metadata": {},
   "source": [
    "Since rating is a nominative variable, the most reasonable thing to do would be to replace missing values ​​with 'unknown'"
   ]
  },
  {
   "cell_type": "code",
   "execution_count": 39,
   "metadata": {},
   "outputs": [],
   "source": [
    "# replacing missing values ​​in the 'rating' column with the string 'unknown' with a special replacement method\n",
    "df['rating'] = df['rating'].fillna('unknown')\n",
    "df['publisher']=df['publisher'].fillna('unknown')\n",
    "df['developer']=df['developer'].fillna('unknown')"
   ]
  },
  {
   "cell_type": "code",
   "execution_count": 40,
   "metadata": {},
   "outputs": [
    {
     "data": {
      "text/plain": [
       "name                  0\n",
       "platform              0\n",
       "year_of_release       0\n",
       "genre                 0\n",
       "publisher             0\n",
       "na_sales              0\n",
       "eu_sales              0\n",
       "jp_sales              0\n",
       "other_sales           0\n",
       "global_sales          0\n",
       "critic_score       8470\n",
       "user_score         8992\n",
       "developer             0\n",
       "rating                0\n",
       "dtype: int64"
      ]
     },
     "execution_count": 40,
     "metadata": {},
     "output_type": "execute_result"
    }
   ],
   "source": [
    "# <check: calculate the total number of gaps found in table df>\n",
    "df.isnull().sum()"
   ]
  },
  {
   "cell_type": "code",
   "execution_count": 88,
   "metadata": {},
   "outputs": [],
   "source": [
    "df.to_csv('C:\\\\Users\\\\Durgesh\\\\Downloads\\\\Video-Game-Analysis-master\\\\Video-Game-Analysis-master\\\\video_modified.csv')"
   ]
  },
  {
   "cell_type": "markdown",
   "metadata": {},
   "source": [
    "After the gaps were processed, the missing values ​​remained in the critic_score and user_score columns. We do not have enough data to restore these gaps. We also see that gaps in columns often occur together, i.e. no data for the same games. This is most likely due to the fact that this data was simply not loaded into the table. After writing brief conclusions, you can proceed to the next stage."
   ]
  },
  {
   "cell_type": "markdown",
   "metadata": {},
   "source": [
    "**Conclusion**"
   ]
  },
  {
   "cell_type": "markdown",
   "metadata": {},
   "source": [
    "At this stage, the names of the columns were replaced with more convenient ones for further work, and work was carried out to find and replace missing values.\n",
    "\n",
    "We encountered missing values ​​in the name, year_of_release, critic_score, user_score, and rating columns.\n",
    "\n",
    "There were only two gaps in the name column, which is not critical and can be caused by chance.\n",
    "\n",
    "In the year_of_release column, the number of gaps was also not significant, some of the values ​​were restored by taking information directly from the names of the games, the rest of the data were omitted due to their small number and the inability to influence the study as a whole. \n",
    "\n",
    "Missing critic_score and user_score values ​​make up about half of the data and often occur together. With a high probability, this tells us that some of the games were not rated or simply were not loaded into the table. An attempt was made to recover the missing values ​​by finding a correlation with sales volumes, however, as a result, the correlations turned out to be weak or very weak. As a result, it was decided to leave gaps so as not to distort the results of the study. It is better to work with less data, but good quality.\n",
    "\n",
    "\n",
    "Missing game rating values ​​have been replaced with the string 'unknown', as this is a nominative variable and it is not possible to estimate its actual values ​​for a particular game\n",
    "\n",
    "A notable portion of the missing scores and ratings was related to the game's release year. Either this is the 1980s, when the video game industry was not so developed, so the omission of ratings and ratings seems logical, or these are the most recent games that have not yet had time to aggregate critic and user ratings (including, more than 2000 string values ​​'tbc' ).\n",
    "The total sales in all regions were also calculated with the subsequent saving of the values ​​in a separate column 'global_sales'.\n",
    "\n",
    "The data is prepared for further analysis.\n"
   ]
  },
  {
   "cell_type": "markdown",
   "metadata": {},
   "source": [
    "## Stage 3. Exploratory data analysis"
   ]
  },
  {
   "cell_type": "markdown",
   "metadata": {},
   "source": [
    "Consider the distribution of games by year of release, evaluate the popularity of gaming platforms in certain periods of time, select relevant data for further work, making forecasts and conclusions."
   ]
  },
  {
   "cell_type": "markdown",
   "metadata": {},
   "source": [
    "**Distribution of games by year of release**"
   ]
  },
  {
   "cell_type": "markdown",
   "metadata": {},
   "source": [
    "Let's see how many games were released in different years."
   ]
  },
  {
   "cell_type": "code",
   "execution_count": 41,
   "metadata": {},
   "outputs": [
    {
     "data": {
      "text/html": [
       "<div>\n",
       "<style scoped>\n",
       "    .dataframe tbody tr th:only-of-type {\n",
       "        vertical-align: middle;\n",
       "    }\n",
       "\n",
       "    .dataframe tbody tr th {\n",
       "        vertical-align: top;\n",
       "    }\n",
       "\n",
       "    .dataframe thead th {\n",
       "        text-align: right;\n",
       "    }\n",
       "</style>\n",
       "<table border=\"1\" class=\"dataframe\">\n",
       "  <thead>\n",
       "    <tr style=\"text-align: right;\">\n",
       "      <th></th>\n",
       "      <th>year_of_release</th>\n",
       "      <th>games_number</th>\n",
       "    </tr>\n",
       "  </thead>\n",
       "  <tbody>\n",
       "    <tr>\n",
       "      <th>0</th>\n",
       "      <td>1980.0</td>\n",
       "      <td>9</td>\n",
       "    </tr>\n",
       "    <tr>\n",
       "      <th>1</th>\n",
       "      <td>1981.0</td>\n",
       "      <td>46</td>\n",
       "    </tr>\n",
       "    <tr>\n",
       "      <th>2</th>\n",
       "      <td>1982.0</td>\n",
       "      <td>36</td>\n",
       "    </tr>\n",
       "    <tr>\n",
       "      <th>3</th>\n",
       "      <td>1983.0</td>\n",
       "      <td>17</td>\n",
       "    </tr>\n",
       "    <tr>\n",
       "      <th>4</th>\n",
       "      <td>1984.0</td>\n",
       "      <td>14</td>\n",
       "    </tr>\n",
       "  </tbody>\n",
       "</table>\n",
       "</div>"
      ],
      "text/plain": [
       "   year_of_release  games_number\n",
       "0           1980.0             9\n",
       "1           1981.0            46\n",
       "2           1982.0            36\n",
       "3           1983.0            17\n",
       "4           1984.0            14"
      ]
     },
     "execution_count": 41,
     "metadata": {},
     "output_type": "execute_result"
    }
   ],
   "source": [
    "# grouping data and counting the number of released games by year\n",
    "games_per_year = df.groupby('year_of_release', as_index=False).name \\\n",
    "                   .count() \\\n",
    "                   .rename(columns={'name': 'games_number'})\n",
    "games_per_year.head()"
   ]
  },
  {
   "cell_type": "markdown",
   "metadata": {},
   "source": [
    "Let's build a bar chart of the distribution of the number of released games by year."
   ]
  },
  {
   "cell_type": "code",
   "execution_count": 42,
   "metadata": {},
   "outputs": [
    {
     "data": {
      "image/png": "[encoded data removed]",
      "text/plain": [
       "<Figure size 864x576 with 1 Axes>"
      ]
     },
     "metadata": {
      "needs_background": "light"
     },
     "output_type": "display_data"
    }
   ],
   "source": [
    "# shape size\n",
    "plt.figure(figsize=(12, 8))\n",
    "\n",
    "# setting the parameters for plotting the graph\n",
    "ax = sns.barplot(y=games_per_year.year_of_release,\n",
    "                 x=games_per_year.games_number,\n",
    "                 orient='h',\n",
    "                 color='#e2b2ed'\n",
    "                 );\n",
    "\n",
    "# axis labels and titles\n",
    "plt.xlabel('number of games released, pcs.')\n",
    "plt.title('Distribution of the number of released games by years');"
   ]
  },
  {
   "cell_type": "markdown",
   "metadata": {},
   "source": [
    "\n",
    "The graph shows that the bulk of games were released in the first decade of the twenty-first century, with a peak in 2008-2009. After 2011, there has been a significant decline in the number of released games (the rise in popularity of social networks?)."
   ]
  },
  {
   "cell_type": "markdown",
   "metadata": {},
   "source": [
    "Estimate the cumulative percentage of the number of released games"
   ]
  },
  {
   "cell_type": "code",
   "execution_count": 43,
   "metadata": {},
   "outputs": [
    {
     "data": {
      "text/html": [
       "<div>\n",
       "<style scoped>\n",
       "    .dataframe tbody tr th:only-of-type {\n",
       "        vertical-align: middle;\n",
       "    }\n",
       "\n",
       "    .dataframe tbody tr th {\n",
       "        vertical-align: top;\n",
       "    }\n",
       "\n",
       "    .dataframe thead th {\n",
       "        text-align: right;\n",
       "    }\n",
       "</style>\n",
       "<table border=\"1\" class=\"dataframe\">\n",
       "  <thead>\n",
       "    <tr style=\"text-align: right;\">\n",
       "      <th></th>\n",
       "      <th>year_of_release</th>\n",
       "      <th>games_number</th>\n",
       "      <th>prcnt</th>\n",
       "      <th>prcnt_sum</th>\n",
       "    </tr>\n",
       "  </thead>\n",
       "  <tbody>\n",
       "    <tr>\n",
       "      <th>0</th>\n",
       "      <td>1980.0</td>\n",
       "      <td>9</td>\n",
       "      <td>0.054651</td>\n",
       "      <td>0.054651</td>\n",
       "    </tr>\n",
       "    <tr>\n",
       "      <th>1</th>\n",
       "      <td>1981.0</td>\n",
       "      <td>46</td>\n",
       "      <td>0.279330</td>\n",
       "      <td>0.333981</td>\n",
       "    </tr>\n",
       "    <tr>\n",
       "      <th>2</th>\n",
       "      <td>1982.0</td>\n",
       "      <td>36</td>\n",
       "      <td>0.218606</td>\n",
       "      <td>0.552587</td>\n",
       "    </tr>\n",
       "    <tr>\n",
       "      <th>3</th>\n",
       "      <td>1983.0</td>\n",
       "      <td>17</td>\n",
       "      <td>0.103231</td>\n",
       "      <td>0.655817</td>\n",
       "    </tr>\n",
       "    <tr>\n",
       "      <th>4</th>\n",
       "      <td>1984.0</td>\n",
       "      <td>14</td>\n",
       "      <td>0.085013</td>\n",
       "      <td>0.740831</td>\n",
       "    </tr>\n",
       "    <tr>\n",
       "      <th>5</th>\n",
       "      <td>1985.0</td>\n",
       "      <td>14</td>\n",
       "      <td>0.085013</td>\n",
       "      <td>0.825844</td>\n",
       "    </tr>\n",
       "    <tr>\n",
       "      <th>6</th>\n",
       "      <td>1986.0</td>\n",
       "      <td>21</td>\n",
       "      <td>0.127520</td>\n",
       "      <td>0.953364</td>\n",
       "    </tr>\n",
       "    <tr>\n",
       "      <th>7</th>\n",
       "      <td>1987.0</td>\n",
       "      <td>16</td>\n",
       "      <td>0.097158</td>\n",
       "      <td>1.050522</td>\n",
       "    </tr>\n",
       "    <tr>\n",
       "      <th>8</th>\n",
       "      <td>1988.0</td>\n",
       "      <td>15</td>\n",
       "      <td>0.091086</td>\n",
       "      <td>1.141608</td>\n",
       "    </tr>\n",
       "    <tr>\n",
       "      <th>9</th>\n",
       "      <td>1989.0</td>\n",
       "      <td>17</td>\n",
       "      <td>0.103231</td>\n",
       "      <td>1.244838</td>\n",
       "    </tr>\n",
       "    <tr>\n",
       "      <th>10</th>\n",
       "      <td>1990.0</td>\n",
       "      <td>16</td>\n",
       "      <td>0.097158</td>\n",
       "      <td>1.341997</td>\n",
       "    </tr>\n",
       "    <tr>\n",
       "      <th>11</th>\n",
       "      <td>1991.0</td>\n",
       "      <td>41</td>\n",
       "      <td>0.248968</td>\n",
       "      <td>1.590964</td>\n",
       "    </tr>\n",
       "    <tr>\n",
       "      <th>12</th>\n",
       "      <td>1992.0</td>\n",
       "      <td>43</td>\n",
       "      <td>0.261112</td>\n",
       "      <td>1.852077</td>\n",
       "    </tr>\n",
       "    <tr>\n",
       "      <th>13</th>\n",
       "      <td>1993.0</td>\n",
       "      <td>60</td>\n",
       "      <td>0.364343</td>\n",
       "      <td>2.216420</td>\n",
       "    </tr>\n",
       "    <tr>\n",
       "      <th>14</th>\n",
       "      <td>1994.0</td>\n",
       "      <td>121</td>\n",
       "      <td>0.734758</td>\n",
       "      <td>2.951178</td>\n",
       "    </tr>\n",
       "    <tr>\n",
       "      <th>15</th>\n",
       "      <td>1995.0</td>\n",
       "      <td>219</td>\n",
       "      <td>1.329852</td>\n",
       "      <td>4.281030</td>\n",
       "    </tr>\n",
       "    <tr>\n",
       "      <th>16</th>\n",
       "      <td>1996.0</td>\n",
       "      <td>263</td>\n",
       "      <td>1.597037</td>\n",
       "      <td>5.878067</td>\n",
       "    </tr>\n",
       "    <tr>\n",
       "      <th>17</th>\n",
       "      <td>1997.0</td>\n",
       "      <td>289</td>\n",
       "      <td>1.754919</td>\n",
       "      <td>7.632985</td>\n",
       "    </tr>\n",
       "    <tr>\n",
       "      <th>18</th>\n",
       "      <td>1998.0</td>\n",
       "      <td>379</td>\n",
       "      <td>2.301433</td>\n",
       "      <td>9.934418</td>\n",
       "    </tr>\n",
       "    <tr>\n",
       "      <th>19</th>\n",
       "      <td>1999.0</td>\n",
       "      <td>339</td>\n",
       "      <td>2.058538</td>\n",
       "      <td>11.992956</td>\n",
       "    </tr>\n",
       "    <tr>\n",
       "      <th>20</th>\n",
       "      <td>2000.0</td>\n",
       "      <td>350</td>\n",
       "      <td>2.125334</td>\n",
       "      <td>14.118290</td>\n",
       "    </tr>\n",
       "    <tr>\n",
       "      <th>21</th>\n",
       "      <td>2001.0</td>\n",
       "      <td>482</td>\n",
       "      <td>2.926889</td>\n",
       "      <td>17.045179</td>\n",
       "    </tr>\n",
       "    <tr>\n",
       "      <th>22</th>\n",
       "      <td>2002.0</td>\n",
       "      <td>830</td>\n",
       "      <td>5.040078</td>\n",
       "      <td>22.085256</td>\n",
       "    </tr>\n",
       "    <tr>\n",
       "      <th>23</th>\n",
       "      <td>2003.0</td>\n",
       "      <td>779</td>\n",
       "      <td>4.730386</td>\n",
       "      <td>26.815642</td>\n",
       "    </tr>\n",
       "    <tr>\n",
       "      <th>24</th>\n",
       "      <td>2004.0</td>\n",
       "      <td>764</td>\n",
       "      <td>4.639300</td>\n",
       "      <td>31.454943</td>\n",
       "    </tr>\n",
       "    <tr>\n",
       "      <th>25</th>\n",
       "      <td>2005.0</td>\n",
       "      <td>941</td>\n",
       "      <td>5.714112</td>\n",
       "      <td>37.169055</td>\n",
       "    </tr>\n",
       "    <tr>\n",
       "      <th>26</th>\n",
       "      <td>2006.0</td>\n",
       "      <td>1009</td>\n",
       "      <td>6.127034</td>\n",
       "      <td>43.296089</td>\n",
       "    </tr>\n",
       "    <tr>\n",
       "      <th>27</th>\n",
       "      <td>2007.0</td>\n",
       "      <td>1200</td>\n",
       "      <td>7.286859</td>\n",
       "      <td>50.582949</td>\n",
       "    </tr>\n",
       "    <tr>\n",
       "      <th>28</th>\n",
       "      <td>2008.0</td>\n",
       "      <td>1429</td>\n",
       "      <td>8.677435</td>\n",
       "      <td>59.260384</td>\n",
       "    </tr>\n",
       "    <tr>\n",
       "      <th>29</th>\n",
       "      <td>2009.0</td>\n",
       "      <td>1426</td>\n",
       "      <td>8.659218</td>\n",
       "      <td>67.919602</td>\n",
       "    </tr>\n",
       "    <tr>\n",
       "      <th>30</th>\n",
       "      <td>2010.0</td>\n",
       "      <td>1255</td>\n",
       "      <td>7.620840</td>\n",
       "      <td>75.540442</td>\n",
       "    </tr>\n",
       "    <tr>\n",
       "      <th>31</th>\n",
       "      <td>2011.0</td>\n",
       "      <td>1138</td>\n",
       "      <td>6.910372</td>\n",
       "      <td>82.450814</td>\n",
       "    </tr>\n",
       "    <tr>\n",
       "      <th>32</th>\n",
       "      <td>2012.0</td>\n",
       "      <td>653</td>\n",
       "      <td>3.965266</td>\n",
       "      <td>86.416080</td>\n",
       "    </tr>\n",
       "    <tr>\n",
       "      <th>33</th>\n",
       "      <td>2013.0</td>\n",
       "      <td>544</td>\n",
       "      <td>3.303376</td>\n",
       "      <td>89.719456</td>\n",
       "    </tr>\n",
       "    <tr>\n",
       "      <th>34</th>\n",
       "      <td>2014.0</td>\n",
       "      <td>581</td>\n",
       "      <td>3.528054</td>\n",
       "      <td>93.247510</td>\n",
       "    </tr>\n",
       "    <tr>\n",
       "      <th>35</th>\n",
       "      <td>2015.0</td>\n",
       "      <td>606</td>\n",
       "      <td>3.679864</td>\n",
       "      <td>96.927374</td>\n",
       "    </tr>\n",
       "    <tr>\n",
       "      <th>36</th>\n",
       "      <td>2016.0</td>\n",
       "      <td>502</td>\n",
       "      <td>3.048336</td>\n",
       "      <td>99.975710</td>\n",
       "    </tr>\n",
       "    <tr>\n",
       "      <th>37</th>\n",
       "      <td>2017.0</td>\n",
       "      <td>3</td>\n",
       "      <td>0.018217</td>\n",
       "      <td>99.993928</td>\n",
       "    </tr>\n",
       "    <tr>\n",
       "      <th>38</th>\n",
       "      <td>2020.0</td>\n",
       "      <td>1</td>\n",
       "      <td>0.006072</td>\n",
       "      <td>100.000000</td>\n",
       "    </tr>\n",
       "  </tbody>\n",
       "</table>\n",
       "</div>"
      ],
      "text/plain": [
       "    year_of_release  games_number     prcnt   prcnt_sum\n",
       "0            1980.0             9  0.054651    0.054651\n",
       "1            1981.0            46  0.279330    0.333981\n",
       "2            1982.0            36  0.218606    0.552587\n",
       "3            1983.0            17  0.103231    0.655817\n",
       "4            1984.0            14  0.085013    0.740831\n",
       "5            1985.0            14  0.085013    0.825844\n",
       "6            1986.0            21  0.127520    0.953364\n",
       "7            1987.0            16  0.097158    1.050522\n",
       "8            1988.0            15  0.091086    1.141608\n",
       "9            1989.0            17  0.103231    1.244838\n",
       "10           1990.0            16  0.097158    1.341997\n",
       "11           1991.0            41  0.248968    1.590964\n",
       "12           1992.0            43  0.261112    1.852077\n",
       "13           1993.0            60  0.364343    2.216420\n",
       "14           1994.0           121  0.734758    2.951178\n",
       "15           1995.0           219  1.329852    4.281030\n",
       "16           1996.0           263  1.597037    5.878067\n",
       "17           1997.0           289  1.754919    7.632985\n",
       "18           1998.0           379  2.301433    9.934418\n",
       "19           1999.0           339  2.058538   11.992956\n",
       "20           2000.0           350  2.125334   14.118290\n",
       "21           2001.0           482  2.926889   17.045179\n",
       "22           2002.0           830  5.040078   22.085256\n",
       "23           2003.0           779  4.730386   26.815642\n",
       "24           2004.0           764  4.639300   31.454943\n",
       "25           2005.0           941  5.714112   37.169055\n",
       "26           2006.0          1009  6.127034   43.296089\n",
       "27           2007.0          1200  7.286859   50.582949\n",
       "28           2008.0          1429  8.677435   59.260384\n",
       "29           2009.0          1426  8.659218   67.919602\n",
       "30           2010.0          1255  7.620840   75.540442\n",
       "31           2011.0          1138  6.910372   82.450814\n",
       "32           2012.0           653  3.965266   86.416080\n",
       "33           2013.0           544  3.303376   89.719456\n",
       "34           2014.0           581  3.528054   93.247510\n",
       "35           2015.0           606  3.679864   96.927374\n",
       "36           2016.0           502  3.048336   99.975710\n",
       "37           2017.0             3  0.018217   99.993928\n",
       "38           2020.0             1  0.006072  100.000000"
      ]
     },
     "execution_count": 43,
     "metadata": {},
     "output_type": "execute_result"
    }
   ],
   "source": [
    "# calculate the percentage for a specific year\n",
    "games_per_year['prcnt'] = 100 * games_per_year.games_number / games_per_year.games_number.sum()\n",
    "# calculate the accumulative percentage\n",
    "games_per_year['prcnt_sum'] = games_per_year.prcnt.expanding(1).sum()\n",
    "\n",
    "# visualization of results\n",
    "games_per_year"
   ]
  },
  {
   "cell_type": "markdown",
   "metadata": {},
   "source": [
    "Building a cumulative chart of the percentage of released games."
   ]
  },
  {
   "cell_type": "code",
   "execution_count": 44,
   "metadata": {},
   "outputs": [
    {
     "data": {
      "image/png": "[encoded data removed]",
      "text/plain": [
       "<Figure size 864x576 with 1 Axes>"
      ]
     },
     "metadata": {
      "needs_background": "light"
     },
     "output_type": "display_data"
    }
   ],
   "source": [
    "# data transformation\n",
    "rnd = np.asarray(games_per_year.loc[:, 'prcnt_sum'].to_list())\n",
    "yrs = np.asarray(games_per_year.loc[:, 'year_of_release'].to_list())\n",
    "\n",
    "# construction and design of the graph\n",
    "fig, ax = plt.subplots(figsize=(12, 8))\n",
    "ax.stackplot(yrs, rnd, labels=['games releases'], color='#e2b2ed')\n",
    "ax.set_title('Cumulative chart of the percentage of games released')\n",
    "ax.legend(loc='upper left')\n",
    "ax.set_xlabel('Year of release')\n",
    "ax.set_ylabel('Comulative percentage, %')\n",
    "ax.set_xlim(xmin=yrs[0], xmax=yrs[-1])\n",
    "ax.set_ylim(ymin=0, ymax=100)\n",
    "fig.tight_layout()\n",
    " \n",
    "plt.show();"
   ]
  },
  {
   "cell_type": "markdown",
   "metadata": {},
   "source": [
    "According to the data obtained, it is clearly seen that for the first half of the presented period (from 1983 to 1999) about 11% of the total number of released games were released, and for the second half, the remaining 89%. Half of the released games were released between 2007 and 2016. Thus, it can be concluded that the data for the 80s and 90s of the twentieth century do not carry much weight in quantitative terms for the available data set."
   ]
  },
  {
   "cell_type": "markdown",
   "metadata": {},
   "source": [
    "Let's look at the dynamics of total sales."
   ]
  },
  {
   "cell_type": "code",
   "execution_count": 45,
   "metadata": {},
   "outputs": [],
   "source": [
    "# get the required data slice\n",
    "df_sales = df.groupby('year_of_release', as_index=False) \\\n",
    "    .agg({'global_sales': 'sum'}) \\\n",
    "    .sort_values('global_sales', ascending=False)"
   ]
  },
  {
   "cell_type": "code",
   "execution_count": 46,
   "metadata": {},
   "outputs": [
    {
     "data": {
      "image/png": "[encoded data removed]",
      "text/plain": [
       "<Figure size 864x576 with 1 Axes>"
      ]
     },
     "metadata": {
      "needs_background": "light"
     },
     "output_type": "display_data"
    }
   ],
   "source": [
    "# shape size\n",
    "plt.figure(figsize=(12, 8))\n",
    "\n",
    "# setting the parameters for plotting the graph\n",
    "ax = sns.barplot(y=df_sales.year_of_release,\n",
    "                 x=df_sales.global_sales,\n",
    "                 orient='h',\n",
    "                 color='#9054DE');\n",
    "\n",
    "# axis labels and titles\n",
    "plt.xlabel('global sales, Million USD')\n",
    "plt.title('Dynamics of total game sales over the entire history of observations');"
   ]
  },
  {
   "cell_type": "markdown",
   "metadata": {},
   "source": [
    "The dynamics of overall sales in general closely follows the dynamics of the release of new games, with a peak in 2008-2009 and then a decline to the values ​​of the early 2000s, when the computer games industry was at the beginning of its rise."
   ]
  },
  {
   "cell_type": "markdown",
   "metadata": {},
   "source": [
    "Next, consider the distribution of sales by platform. Let's define fashionable in the past and popular now platforms. Let's evaluate the life cycle of platforms."
   ]
  },
  {
   "cell_type": "markdown",
   "metadata": {},
   "source": [
    "**Changes in sales by platform**"
   ]
  },
  {
   "cell_type": "code",
   "execution_count": 89,
   "metadata": {},
   "outputs": [
    {
     "data": {
      "text/html": [
       "<div>\n",
       "<style scoped>\n",
       "    .dataframe tbody tr th:only-of-type {\n",
       "        vertical-align: middle;\n",
       "    }\n",
       "\n",
       "    .dataframe tbody tr th {\n",
       "        vertical-align: top;\n",
       "    }\n",
       "\n",
       "    .dataframe thead th {\n",
       "        text-align: right;\n",
       "    }\n",
       "</style>\n",
       "<table border=\"1\" class=\"dataframe\">\n",
       "  <thead>\n",
       "    <tr style=\"text-align: right;\">\n",
       "      <th></th>\n",
       "      <th>platform</th>\n",
       "      <th>global_sales</th>\n",
       "    </tr>\n",
       "  </thead>\n",
       "  <tbody>\n",
       "    <tr>\n",
       "      <th>16</th>\n",
       "      <td>PS2</td>\n",
       "      <td>1247.16</td>\n",
       "    </tr>\n",
       "    <tr>\n",
       "      <th>28</th>\n",
       "      <td>X360</td>\n",
       "      <td>962.04</td>\n",
       "    </tr>\n",
       "    <tr>\n",
       "      <th>17</th>\n",
       "      <td>PS3</td>\n",
       "      <td>931.15</td>\n",
       "    </tr>\n",
       "    <tr>\n",
       "      <th>26</th>\n",
       "      <td>Wii</td>\n",
       "      <td>892.93</td>\n",
       "    </tr>\n",
       "    <tr>\n",
       "      <th>4</th>\n",
       "      <td>DS</td>\n",
       "      <td>803.75</td>\n",
       "    </tr>\n",
       "    <tr>\n",
       "      <th>15</th>\n",
       "      <td>PS</td>\n",
       "      <td>728.87</td>\n",
       "    </tr>\n",
       "    <tr>\n",
       "      <th>18</th>\n",
       "      <td>PS4</td>\n",
       "      <td>314.23</td>\n",
       "    </tr>\n",
       "    <tr>\n",
       "      <th>6</th>\n",
       "      <td>GBA</td>\n",
       "      <td>313.56</td>\n",
       "    </tr>\n",
       "    <tr>\n",
       "      <th>19</th>\n",
       "      <td>PSP</td>\n",
       "      <td>290.63</td>\n",
       "    </tr>\n",
       "    <tr>\n",
       "      <th>2</th>\n",
       "      <td>3DS</td>\n",
       "      <td>257.92</td>\n",
       "    </tr>\n",
       "    <tr>\n",
       "      <th>13</th>\n",
       "      <td>PC</td>\n",
       "      <td>256.56</td>\n",
       "    </tr>\n",
       "    <tr>\n",
       "      <th>5</th>\n",
       "      <td>GB</td>\n",
       "      <td>254.42</td>\n",
       "    </tr>\n",
       "    <tr>\n",
       "      <th>29</th>\n",
       "      <td>XB</td>\n",
       "      <td>253.18</td>\n",
       "    </tr>\n",
       "    <tr>\n",
       "      <th>11</th>\n",
       "      <td>NES</td>\n",
       "      <td>251.07</td>\n",
       "    </tr>\n",
       "    <tr>\n",
       "      <th>10</th>\n",
       "      <td>N64</td>\n",
       "      <td>218.21</td>\n",
       "    </tr>\n",
       "    <tr>\n",
       "      <th>23</th>\n",
       "      <td>SNES</td>\n",
       "      <td>200.05</td>\n",
       "    </tr>\n",
       "    <tr>\n",
       "      <th>7</th>\n",
       "      <td>GC</td>\n",
       "      <td>197.44</td>\n",
       "    </tr>\n",
       "    <tr>\n",
       "      <th>30</th>\n",
       "      <td>XOne</td>\n",
       "      <td>159.44</td>\n",
       "    </tr>\n",
       "    <tr>\n",
       "      <th>0</th>\n",
       "      <td>2600</td>\n",
       "      <td>86.57</td>\n",
       "    </tr>\n",
       "    <tr>\n",
       "      <th>27</th>\n",
       "      <td>WiiU</td>\n",
       "      <td>82.16</td>\n",
       "    </tr>\n",
       "    <tr>\n",
       "      <th>20</th>\n",
       "      <td>PSV</td>\n",
       "      <td>53.85</td>\n",
       "    </tr>\n",
       "    <tr>\n",
       "      <th>21</th>\n",
       "      <td>SAT</td>\n",
       "      <td>33.59</td>\n",
       "    </tr>\n",
       "    <tr>\n",
       "      <th>8</th>\n",
       "      <td>GEN</td>\n",
       "      <td>28.36</td>\n",
       "    </tr>\n",
       "    <tr>\n",
       "      <th>3</th>\n",
       "      <td>DC</td>\n",
       "      <td>15.97</td>\n",
       "    </tr>\n",
       "    <tr>\n",
       "      <th>22</th>\n",
       "      <td>SCD</td>\n",
       "      <td>1.87</td>\n",
       "    </tr>\n",
       "    <tr>\n",
       "      <th>12</th>\n",
       "      <td>NG</td>\n",
       "      <td>1.44</td>\n",
       "    </tr>\n",
       "    <tr>\n",
       "      <th>25</th>\n",
       "      <td>WS</td>\n",
       "      <td>1.42</td>\n",
       "    </tr>\n",
       "    <tr>\n",
       "      <th>24</th>\n",
       "      <td>TG16</td>\n",
       "      <td>0.16</td>\n",
       "    </tr>\n",
       "    <tr>\n",
       "      <th>1</th>\n",
       "      <td>3DO</td>\n",
       "      <td>0.10</td>\n",
       "    </tr>\n",
       "    <tr>\n",
       "      <th>9</th>\n",
       "      <td>GG</td>\n",
       "      <td>0.04</td>\n",
       "    </tr>\n",
       "    <tr>\n",
       "      <th>14</th>\n",
       "      <td>PCFX</td>\n",
       "      <td>0.03</td>\n",
       "    </tr>\n",
       "  </tbody>\n",
       "</table>\n",
       "</div>"
      ],
      "text/plain": [
       "   platform  global_sales\n",
       "16      PS2       1247.16\n",
       "28     X360        962.04\n",
       "17      PS3        931.15\n",
       "26      Wii        892.93\n",
       "4        DS        803.75\n",
       "15       PS        728.87\n",
       "18      PS4        314.23\n",
       "6       GBA        313.56\n",
       "19      PSP        290.63\n",
       "2       3DS        257.92\n",
       "13       PC        256.56\n",
       "5        GB        254.42\n",
       "29       XB        253.18\n",
       "11      NES        251.07\n",
       "10      N64        218.21\n",
       "23     SNES        200.05\n",
       "7        GC        197.44\n",
       "30     XOne        159.44\n",
       "0      2600         86.57\n",
       "27     WiiU         82.16\n",
       "20      PSV         53.85\n",
       "21      SAT         33.59\n",
       "8       GEN         28.36\n",
       "3        DC         15.97\n",
       "22      SCD          1.87\n",
       "12       NG          1.44\n",
       "25       WS          1.42\n",
       "24     TG16          0.16\n",
       "1       3DO          0.10\n",
       "9        GG          0.04\n",
       "14     PCFX          0.03"
      ]
     },
     "execution_count": 89,
     "metadata": {},
     "output_type": "execute_result"
    }
   ],
   "source": [
    "# counting sales grouped by platform\n",
    "plt_sales = df.groupby('platform', as_index=False).agg({'global_sales': 'sum'}) \\\n",
    "    .sort_values('global_sales', ascending=False)\n",
    "\n",
    "# output the result\n",
    "plt_sales"
   ]
  },
  {
   "cell_type": "code",
   "execution_count": 48,
   "metadata": {},
   "outputs": [
    {
     "data": {
      "text/plain": [
       "<Figure size 864x576 with 0 Axes>"
      ]
     },
     "metadata": {},
     "output_type": "display_data"
    },
    {
     "data": {
      "image/png": "[encoded data removed]",
      "text/plain": [
       "<Figure size 864x576 with 1 Axes>"
      ]
     },
     "metadata": {
      "needs_background": "light"
     },
     "output_type": "display_data"
    }
   ],
   "source": [
    "# shape size\n",
    "plt.figure(figsize=(12, 8))\n",
    "\n",
    "# setting the parameters for plotting the graph\n",
    "plt_sales.plot(x='platform',\n",
    "               y='global_sales',\n",
    "               kind='bar',\n",
    "               figsize=(12, 8),\n",
    "               title='Breakdown of total global sales by platform',\n",
    "               color='#85c2ed');\n",
    "\n",
    "# set y-axis label\n",
    "plt.ylabel('global sales, millions USD.');"
   ]
  },
  {
   "cell_type": "markdown",
   "metadata": {},
   "source": [
    "The graph clearly shows the leaders in total global sales: PS2, X360, PS3, Wii, DS, PS. There is a gap of 2-4 times compared to the next platform in revenue PS4. The data of the top 6 platforms is the main contender for detailed further analysis. However, you must first check the relevance of certain platforms."
   ]
  },
  {
   "cell_type": "markdown",
   "metadata": {},
   "source": [
    "To assess the dynamics of platform popularity over the years, we will select platforms whose total sales exceed the median value, i.e. Let's take the first half of the list ranked by world sales."
   ]
  },
  {
   "cell_type": "code",
   "execution_count": 49,
   "metadata": {},
   "outputs": [
    {
     "data": {
      "text/plain": [
       "['PS2',\n",
       " 'X360',\n",
       " 'PS3',\n",
       " 'Wii',\n",
       " 'DS',\n",
       " 'PS',\n",
       " 'PS4',\n",
       " 'GBA',\n",
       " 'PSP',\n",
       " '3DS',\n",
       " 'PC',\n",
       " 'GB',\n",
       " 'XB',\n",
       " 'NES',\n",
       " 'N64']"
      ]
     },
     "execution_count": 49,
     "metadata": {},
     "output_type": "execute_result"
    }
   ],
   "source": [
    "# create a list of platform names with total global sales greater than the median\n",
    "platforms_above_median = []\n",
    "\n",
    "for row in plt_sales.itertuples():  # iterating over the dataframe\n",
    "    if row.global_sales > plt_sales.global_sales.median():  # compare sales values ​​with the median\n",
    "        platforms_above_median.append(row.platform)  # add the platform name to the list\n",
    "\n",
    "# checking the result (listing platform names)\n",
    "platforms_above_median"
   ]
  },
  {
   "cell_type": "code",
   "execution_count": 50,
   "metadata": {},
   "outputs": [],
   "source": [
    "# grouping data by years and platforms and calculating total global sales\n",
    "plt_sales_year = df.query('platform in @platforms_above_median') \\\n",
    "    .groupby(['year_of_release', 'platform'], as_index=False) \\\n",
    "    .agg({'global_sales': 'sum'}) \\\n",
    "    .sort_values('year_of_release', ascending=True)"
   ]
  },
  {
   "cell_type": "code",
   "execution_count": 51,
   "metadata": {},
   "outputs": [
    {
     "data": {
      "image/png": "[encoded data removed]",
      "text/plain": [
       "<Figure size 864x576 with 1 Axes>"
      ]
     },
     "metadata": {
      "needs_background": "light"
     },
     "output_type": "display_data"
    }
   ],
   "source": [
    "# shape size\n",
    "plt.figure(figsize=(12, 8))\n",
    "\n",
    "# chart options\n",
    "sns.lineplot(x=plt_sales_year.year_of_release,\n",
    "             y=plt_sales_year.global_sales,\n",
    "             hue=plt_sales_year.platform);\n",
    "\n",
    "# set y-axis label\n",
    "plt.ylabel('global sales, millions USD.');\n",
    "plt.title('Evaluation of the dynamics of sales of games on various platforms by years');"
   ]
  },
  {
   "cell_type": "markdown",
   "metadata": {},
   "source": [
    "Evaluation of the dynamics of sales of games on various platforms by years"
   ]
  },
  {
   "cell_type": "code",
   "execution_count": 52,
   "metadata": {},
   "outputs": [
    {
     "data": {
      "image/png": "[encoded data removed]",
      "text/plain": [
       "<Figure size 144x576 with 1 Axes>"
      ]
     },
     "metadata": {
      "needs_background": "light"
     },
     "output_type": "display_data"
    }
   ],
   "source": [
    "# calculate platform lifetime\n",
    "life_span = df.groupby('platform').year_of_release.max() - df.groupby('platform').year_of_release.min()\n",
    "\n",
    "# mark up space for plotting\n",
    "fig, (ax1) = plt.subplots(\n",
    "    nrows=1, ncols=1,\n",
    "    figsize=(2, 8)\n",
    ")\n",
    "\n",
    "# plotting and designing a chart (boxplot + value points (swarmplot))\n",
    "sns.boxplot(y=life_span, color='grey', ax=ax1)\n",
    "sns.swarmplot(y=life_span, color='black')\n",
    "\n",
    "# axis labels and chart name\n",
    "ax1.set_title('Platform lifespan')\n",
    "ax1.set_xlabel('lifespan')\n",
    "ax1.set_ylabel('platform lifespan, years');"
   ]
  },
  {
   "cell_type": "markdown",
   "metadata": {},
   "source": [
    "The graph shows that there are two outliers, otherwise, most of the data is placed inside the interquartile range. Due to the presence of outliers, we will use the median value (6 years) when we talk about the average value of the platform life cycle."
   ]
  },
  {
   "cell_type": "code",
   "execution_count": 53,
   "metadata": {},
   "outputs": [
    {
     "data": {
      "text/plain": [
       "count    31.000000\n",
       "mean      7.903226\n",
       "std       7.721636\n",
       "min       0.000000\n",
       "25%       3.500000\n",
       "50%       6.000000\n",
       "75%      10.000000\n",
       "max      35.000000\n",
       "Name: year_of_release, dtype: float64"
      ]
     },
     "execution_count": 53,
     "metadata": {},
     "output_type": "execute_result"
    }
   ],
   "source": [
    "# basic platform life cycle statistics\n",
    "life_span.describe()"
   ]
  },
  {
   "cell_type": "markdown",
   "metadata": {},
   "source": [
    "The resulting graphs clearly show that the average platform life cycle is 6 years (the only exception is PC and DS). We also see that the overall bestseller PS2 has completely exhausted itself and its last sales were in 2011. Therefore, it will be incorrect for our tasks to select data by the size of sales for the entire history. We thus greatly distort the results of our research. Therefore, we will take another criterion for our sample: we will take half the value of the third quartile (5 years). Thus, our sample will include platforms at the peak of popularity, as well as new emerging platforms that will be popular in the future."
   ]
  },
  {
   "cell_type": "code",
   "execution_count": 54,
   "metadata": {},
   "outputs": [],
   "source": [
    "# grouping platform data for the last 5 years by year and platform and calculating total global sales\n",
    "plt_sales_5year = df.query('year_of_release > 2011') \\\n",
    "    .groupby(['year_of_release', 'platform'], as_index=False) \\\n",
    "    .agg({'global_sales': 'sum'}) \\\n",
    "    .sort_values('year_of_release', ascending=True)"
   ]
  },
  {
   "cell_type": "code",
   "execution_count": 55,
   "metadata": {},
   "outputs": [
    {
     "data": {
      "image/png": "[encoded data removed]",
      "text/plain": [
       "<Figure size 864x576 with 1 Axes>"
      ]
     },
     "metadata": {
      "needs_background": "light"
     },
     "output_type": "display_data"
    }
   ],
   "source": [
    "# shape size\n",
    "plt.figure(figsize=(12, 8))\n",
    "\n",
    "# chart options\n",
    "sns.lineplot(x=plt_sales_5year.year_of_release,\n",
    "             y=plt_sales_5year.global_sales,\n",
    "             hue=plt_sales_5year.platform,\n",
    "             legend='full',\n",
    "             palette='nipy_spectral');\n",
    "\n",
    "# задание подписи оси у\n",
    "plt.ylabel('global sales, millions USD.');\n",
    "plt.title('Evaluation of the dynamics of sales of games on various platforms by years for the period 2012-2016');"
   ]
  },
  {
   "cell_type": "markdown",
   "metadata": {},
   "source": [
    "Considering that our data for 2016 is not complete, having adjusted for this, using the graph above, we can say that at the moment only two platforms are still growing and promising: PS4 and XOne. The remnants of popularity are in the 3DS. Sales of games on other platforms are insignificant or tend to zero. Therefore, at this stage of the study, we will continue to work with these three platforms: PS4, XOne, 3DS."
   ]
  },
  {
   "cell_type": "markdown",
   "metadata": {},
   "source": [
    "**Further exploration of PS4, XOne, 3DS platforms**"
   ]
  },
  {
   "cell_type": "markdown",
   "metadata": {},
   "source": [
    "Let's make a slice of the dataframe, which will include data for the last 5 years only for three selected platforms based on the results of the previous step. Let's take a closer look at the breakdown of sales by platform."
   ]
  },
  {
   "cell_type": "code",
   "execution_count": 56,
   "metadata": {},
   "outputs": [],
   "source": [
    "# list of the names of the three most relevant platforms\n",
    "popular_platforms = ['PS4', 'XOne', '3DS']\n",
    "\n",
    "# make a selection by platform name and year\n",
    "df_3p = df.query('platform in @popular_platforms & year_of_release > 2011') \\\n",
    "          .reset_index(drop=True)"
   ]
  },
  {
   "cell_type": "code",
   "execution_count": 57,
   "metadata": {},
   "outputs": [
    {
     "data": {
      "image/png": "[encoded data removed]",
      "text/plain": [
       "<Figure size 432x576 with 3 Axes>"
      ]
     },
     "metadata": {
      "needs_background": "light"
     },
     "output_type": "display_data"
    }
   ],
   "source": [
    "# build a boxplot chart (global sales by platform)\n",
    "df_3p.groupby(['platform']).boxplot(column='global_sales',\n",
    "                                    figsize=(6, 8),\n",
    "                                    layout=(1, 3));"
   ]
  },
  {
   "cell_type": "markdown",
   "metadata": {},
   "source": [
    "Additionally, we obtain the main statistical indicators of our cut"
   ]
  },
  {
   "cell_type": "code",
   "execution_count": 58,
   "metadata": {},
   "outputs": [
    {
     "data": {
      "text/html": [
       "<div>\n",
       "<style scoped>\n",
       "    .dataframe tbody tr th:only-of-type {\n",
       "        vertical-align: middle;\n",
       "    }\n",
       "\n",
       "    .dataframe tbody tr th {\n",
       "        vertical-align: top;\n",
       "    }\n",
       "\n",
       "    .dataframe thead th {\n",
       "        text-align: right;\n",
       "    }\n",
       "</style>\n",
       "<table border=\"1\" class=\"dataframe\">\n",
       "  <thead>\n",
       "    <tr style=\"text-align: right;\">\n",
       "      <th></th>\n",
       "      <th>count</th>\n",
       "      <th>mean</th>\n",
       "      <th>std</th>\n",
       "      <th>min</th>\n",
       "      <th>25%</th>\n",
       "      <th>50%</th>\n",
       "      <th>75%</th>\n",
       "      <th>max</th>\n",
       "    </tr>\n",
       "    <tr>\n",
       "      <th>platform</th>\n",
       "      <th></th>\n",
       "      <th></th>\n",
       "      <th></th>\n",
       "      <th></th>\n",
       "      <th></th>\n",
       "      <th></th>\n",
       "      <th></th>\n",
       "      <th></th>\n",
       "    </tr>\n",
       "  </thead>\n",
       "  <tbody>\n",
       "    <tr>\n",
       "      <th>3DS</th>\n",
       "      <td>396.0</td>\n",
       "      <td>0.491793</td>\n",
       "      <td>1.387013</td>\n",
       "      <td>0.01</td>\n",
       "      <td>0.04</td>\n",
       "      <td>0.11</td>\n",
       "      <td>0.3125</td>\n",
       "      <td>14.60</td>\n",
       "    </tr>\n",
       "    <tr>\n",
       "      <th>PS4</th>\n",
       "      <td>393.0</td>\n",
       "      <td>0.799567</td>\n",
       "      <td>1.607147</td>\n",
       "      <td>0.01</td>\n",
       "      <td>0.06</td>\n",
       "      <td>0.20</td>\n",
       "      <td>0.7300</td>\n",
       "      <td>14.63</td>\n",
       "    </tr>\n",
       "    <tr>\n",
       "      <th>XOne</th>\n",
       "      <td>247.0</td>\n",
       "      <td>0.645506</td>\n",
       "      <td>1.035973</td>\n",
       "      <td>0.01</td>\n",
       "      <td>0.06</td>\n",
       "      <td>0.22</td>\n",
       "      <td>0.6900</td>\n",
       "      <td>7.39</td>\n",
       "    </tr>\n",
       "  </tbody>\n",
       "</table>\n",
       "</div>"
      ],
      "text/plain": [
       "          count      mean       std   min   25%   50%     75%    max\n",
       "platform                                                            \n",
       "3DS       396.0  0.491793  1.387013  0.01  0.04  0.11  0.3125  14.60\n",
       "PS4       393.0  0.799567  1.607147  0.01  0.06  0.20  0.7300  14.63\n",
       "XOne      247.0  0.645506  1.035973  0.01  0.06  0.22  0.6900   7.39"
      ]
     },
     "execution_count": 58,
     "metadata": {},
     "output_type": "execute_result"
    }
   ],
   "source": [
    "# getting descriptive statistics\n",
    "df_3p.groupby(['platform']).global_sales.describe()"
   ]
  },
  {
   "cell_type": "markdown",
   "metadata": {},
   "source": [
    "According to the resulting graph, we can observe that the average values ​​for all platforms are approximately the same. We can also tell by the presence of a large number of outliers on the charts of all platforms that the main revenue comes from a small number of hit games. Their sales are 11-20 times higher than the average total sales. Moreover, there are more such hit games both in terms of the total number and the amplitude of the observed effect on the 3DS and PS4 platforms."
   ]
  },
  {
   "cell_type": "markdown",
   "metadata": {},
   "source": [
    "Let's find the game with the highest global sales for each of the platforms."
   ]
  },
  {
   "cell_type": "code",
   "execution_count": 59,
   "metadata": {},
   "outputs": [
    {
     "data": {
      "text/plain": [
       "platform\n",
       "3DS      1\n",
       "PS4      0\n",
       "XOne    11\n",
       "Name: global_sales, dtype: int64"
      ]
     },
     "execution_count": 59,
     "metadata": {},
     "output_type": "execute_result"
    }
   ],
   "source": [
    "# select indexes\n",
    "df_3p.groupby(['platform']).global_sales.idxmax()"
   ]
  },
  {
   "cell_type": "code",
   "execution_count": 60,
   "metadata": {},
   "outputs": [
    {
     "data": {
      "text/html": [
       "<div>\n",
       "<style scoped>\n",
       "    .dataframe tbody tr th:only-of-type {\n",
       "        vertical-align: middle;\n",
       "    }\n",
       "\n",
       "    .dataframe tbody tr th {\n",
       "        vertical-align: top;\n",
       "    }\n",
       "\n",
       "    .dataframe thead th {\n",
       "        text-align: right;\n",
       "    }\n",
       "</style>\n",
       "<table border=\"1\" class=\"dataframe\">\n",
       "  <thead>\n",
       "    <tr style=\"text-align: right;\">\n",
       "      <th></th>\n",
       "      <th>name</th>\n",
       "      <th>platform</th>\n",
       "      <th>year_of_release</th>\n",
       "      <th>genre</th>\n",
       "      <th>publisher</th>\n",
       "      <th>na_sales</th>\n",
       "      <th>eu_sales</th>\n",
       "      <th>jp_sales</th>\n",
       "      <th>other_sales</th>\n",
       "      <th>global_sales</th>\n",
       "      <th>critic_score</th>\n",
       "      <th>user_score</th>\n",
       "      <th>developer</th>\n",
       "      <th>rating</th>\n",
       "    </tr>\n",
       "  </thead>\n",
       "  <tbody>\n",
       "    <tr>\n",
       "      <th>1</th>\n",
       "      <td>Pokemon X/Pokemon Y</td>\n",
       "      <td>3DS</td>\n",
       "      <td>2013.0</td>\n",
       "      <td>Role-Playing</td>\n",
       "      <td>Nintendo</td>\n",
       "      <td>5.28</td>\n",
       "      <td>4.19</td>\n",
       "      <td>4.35</td>\n",
       "      <td>0.78</td>\n",
       "      <td>14.60</td>\n",
       "      <td>NaN</td>\n",
       "      <td>NaN</td>\n",
       "      <td>unknown</td>\n",
       "      <td>unknown</td>\n",
       "    </tr>\n",
       "    <tr>\n",
       "      <th>0</th>\n",
       "      <td>Call of Duty: Black Ops 3</td>\n",
       "      <td>PS4</td>\n",
       "      <td>2015.0</td>\n",
       "      <td>Shooter</td>\n",
       "      <td>Activision</td>\n",
       "      <td>6.03</td>\n",
       "      <td>5.86</td>\n",
       "      <td>0.36</td>\n",
       "      <td>2.38</td>\n",
       "      <td>14.63</td>\n",
       "      <td>NaN</td>\n",
       "      <td>NaN</td>\n",
       "      <td>unknown</td>\n",
       "      <td>unknown</td>\n",
       "    </tr>\n",
       "    <tr>\n",
       "      <th>11</th>\n",
       "      <td>Call of Duty: Black Ops 3</td>\n",
       "      <td>XOne</td>\n",
       "      <td>2015.0</td>\n",
       "      <td>Shooter</td>\n",
       "      <td>Activision</td>\n",
       "      <td>4.59</td>\n",
       "      <td>2.11</td>\n",
       "      <td>0.01</td>\n",
       "      <td>0.68</td>\n",
       "      <td>7.39</td>\n",
       "      <td>NaN</td>\n",
       "      <td>NaN</td>\n",
       "      <td>unknown</td>\n",
       "      <td>unknown</td>\n",
       "    </tr>\n",
       "  </tbody>\n",
       "</table>\n",
       "</div>"
      ],
      "text/plain": [
       "                         name platform  year_of_release         genre  \\\n",
       "1         Pokemon X/Pokemon Y      3DS           2013.0  Role-Playing   \n",
       "0   Call of Duty: Black Ops 3      PS4           2015.0       Shooter   \n",
       "11  Call of Duty: Black Ops 3     XOne           2015.0       Shooter   \n",
       "\n",
       "     publisher  na_sales  eu_sales  jp_sales  other_sales  global_sales  \\\n",
       "1     Nintendo      5.28      4.19      4.35         0.78         14.60   \n",
       "0   Activision      6.03      5.86      0.36         2.38         14.63   \n",
       "11  Activision      4.59      2.11      0.01         0.68          7.39   \n",
       "\n",
       "    critic_score  user_score developer   rating  \n",
       "1            NaN         NaN   unknown  unknown  \n",
       "0            NaN         NaN   unknown  unknown  \n",
       "11           NaN         NaN   unknown  unknown  "
      ]
     },
     "execution_count": 60,
     "metadata": {},
     "output_type": "execute_result"
    }
   ],
   "source": [
    "# display the best-selling games by selected indices\n",
    "df_3p.iloc[[1, 0, 11]]"
   ]
  },
  {
   "cell_type": "markdown",
   "metadata": {},
   "source": [
    "For the PS4 and XOne platforms, 'Call of Duty: Black Ops 3 (2015)' was the best-selling game, while for the 3DS, it was 'Pokemon X/Pokemon Y' from 2013, which confirms the thesis that the popularity of this game will decrease over time. platforms."
   ]
  },
  {
   "cell_type": "markdown",
   "metadata": {},
   "source": [
    "Let's see how they affect sales within one popular platform\n",
    "reviews from users and critics. Let's build scatterplots and calculate the correlation coefficients between reviews and sales"
   ]
  },
  {
   "cell_type": "code",
   "execution_count": 61,
   "metadata": {},
   "outputs": [
    {
     "data": {
      "image/png": "[encoded data removed]",
      "text/plain": [
       "<Figure size 720x360 with 2 Axes>"
      ]
     },
     "metadata": {
      "needs_background": "light"
     },
     "output_type": "display_data"
    }
   ],
   "source": [
    "# make a slice of data by platform name\n",
    "df_ps4 = df_3p.query('platform == \"PS4\"')\n",
    "\n",
    "# mark up space for plotting\n",
    "fig, (ax1, ax2) = plt.subplots(\n",
    "    nrows=1, ncols=2,\n",
    "    figsize=(10, 5)\n",
    ")\n",
    "\n",
    "# building and designing a scatter plot for critics' reviews\n",
    "ax1.scatter(x=df_ps4.critic_score,\n",
    "            y=df_ps4.global_sales,\n",
    "            alpha=0.35,\n",
    "            color='black');\n",
    "ax1.set_title('PS4: critic_score VS global_sales')\n",
    "ax1.set_xlabel('critic score')\n",
    "ax1.set_ylabel('global sales, Million USD')\n",
    "\n",
    "# building and designing a scatter plot for user feedback\n",
    "ax2.scatter(x=df_ps4.user_score,\n",
    "            y=df_ps4.global_sales,\n",
    "            alpha=0.35,\n",
    "            color='black');\n",
    "ax2.set_title('PS4: user_score VS global_sales')\n",
    "ax2.set_xlabel('user score')\n",
    "ax2.set_ylabel('global sales, Million USD');"
   ]
  },
  {
   "cell_type": "code",
   "execution_count": 62,
   "metadata": {},
   "outputs": [
    {
     "name": "stdout",
     "output_type": "stream",
     "text": [
      "PS4:\n",
      "Correlation coefficient of global sales and critics scores: 0.407\n",
      "Correlation coefficient of global sales and user ratings: -0.032\n"
     ]
    }
   ],
   "source": [
    "# Calculate and display correlation coefficients\n",
    "print('PS4:')\n",
    "print('Correlation coefficient of global sales and critics scores:', round(df_ps4['global_sales'].corr(df_ps4['critic_score']), 3))\n",
    "print('Correlation coefficient of global sales and user ratings:', round(df_ps4['global_sales'].corr(df_ps4['user_score']), 3))"
   ]
  },
  {
   "cell_type": "code",
   "execution_count": 63,
   "metadata": {},
   "outputs": [
    {
     "data": {
      "image/png": "[encoded data removed]",
      "text/plain": [
       "<Figure size 720x360 with 2 Axes>"
      ]
     },
     "metadata": {
      "needs_background": "light"
     },
     "output_type": "display_data"
    }
   ],
   "source": [
    "# make a slice of data by platform name\n",
    "df_xone = df_3p.query('platform == \"XOne\"')\n",
    "\n",
    "# mark up space for plotting\n",
    "fig, (ax1, ax2) = plt.subplots(\n",
    "    nrows=1, ncols=2,\n",
    "    figsize=(10, 5)\n",
    ")\n",
    "\n",
    "# building and designing a scatter plot for critics' reviews\n",
    "ax1.scatter(x=df_xone.critic_score,\n",
    "            y=df_xone.global_sales,\n",
    "            alpha=0.35,\n",
    "            color='green');\n",
    "ax1.set_title('XOne: critic_score VS global_sales')\n",
    "ax1.set_xlabel('critic score')\n",
    "ax1.set_ylabel('global sales, Million USD')\n",
    "\n",
    "# building and designing a scatter plot for user feedback\n",
    "ax2.scatter(x=df_xone.user_score,\n",
    "            y=df_xone.global_sales,\n",
    "            alpha=0.35,\n",
    "            color='green');\n",
    "ax2.set_title('XOne: user_score VS global_sales')\n",
    "ax2.set_xlabel('user score')\n",
    "ax2.set_ylabel('global sales, Million USD');"
   ]
  },
  {
   "cell_type": "code",
   "execution_count": 64,
   "metadata": {},
   "outputs": [
    {
     "name": "stdout",
     "output_type": "stream",
     "text": [
      "XOne:\n",
      "Correlation coefficient of global sales and critics scores: 0.417\n",
      "Correlation coefficient of global sales and user ratings: -0.069\n"
     ]
    }
   ],
   "source": [
    "# Calculate and display correlation coefficients\n",
    "print('XOne:')\n",
    "print('Correlation coefficient of global sales and critics scores:', round(df_xone['global_sales'].corr(df_xone['critic_score']), 3))\n",
    "print('Correlation coefficient of global sales and user ratings:', round(df_xone['global_sales'].corr(df_xone['user_score']), 3))"
   ]
  },
  {
   "cell_type": "code",
   "execution_count": 65,
   "metadata": {},
   "outputs": [
    {
     "data": {
      "image/png": "[encoded data removed]",
      "text/plain": [
       "<Figure size 720x360 with 2 Axes>"
      ]
     },
     "metadata": {
      "needs_background": "light"
     },
     "output_type": "display_data"
    }
   ],
   "source": [
    "# make a slice of data by platform name\n",
    "df_3ds = df_3p.query('platform == \"3DS\"')\n",
    "\n",
    "# mark up space for plotting\n",
    "fig, (ax1, ax2) = plt.subplots(\n",
    "    nrows=1, ncols=2,\n",
    "    figsize=(10, 5)\n",
    ")\n",
    "\n",
    "# building and designing a scatter plot for critics' reviews\n",
    "ax1.scatter(x=df_3ds.critic_score,\n",
    "            y=df_3ds.global_sales,\n",
    "            alpha=0.35,\n",
    "            color='red');\n",
    "ax1.set_title('3DS: critic_score VS global_sales')\n",
    "ax1.set_xlabel('critic score')\n",
    "ax1.set_ylabel('global sales, Million USD')\n",
    "\n",
    "# building and designing a scatter plot for user feedback\n",
    "ax2.scatter(x=df_3ds.user_score,\n",
    "            y=df_3ds.global_sales,\n",
    "            alpha=0.35,\n",
    "            color='red');\n",
    "ax2.set_title('3DS: user_score VS global_sales')\n",
    "ax2.set_xlabel('user score')\n",
    "ax2.set_ylabel('global sales, Million USD');"
   ]
  },
  {
   "cell_type": "code",
   "execution_count": 66,
   "metadata": {},
   "outputs": [
    {
     "name": "stdout",
     "output_type": "stream",
     "text": [
      "3DS:\n",
      "Correlation coefficient of global sales and critics scores: 0.32\n",
      "Correlation coefficient of global sales and user ratings: 0.197\n"
     ]
    }
   ],
   "source": [
    "# Calculate and display correlation coefficients\n",
    "print('3DS:')\n",
    "print('Correlation coefficient of global sales and critics scores:', round(df_3ds['global_sales'].corr(df_3ds['critic_score']), 3))\n",
    "print('Correlation coefficient of global sales and user ratings:', round(df_3ds['global_sales'].corr(df_3ds['user_score']), 3))"
   ]
  },
  {
   "cell_type": "markdown",
   "metadata": {},
   "source": [
    "The correlation between sales and critical reviews is weak. The correlation between sales and user ratings is very weak, almost zero for PS4 and XOne. These conclusions are the same for all three considered platforms. Correlation between sales and critics' ratings for PS4 and XOne (about 0.41), and for 3DS (about 0.32)."
   ]
  },
  {
   "cell_type": "markdown",
   "metadata": {},
   "source": [
    "Next, let's look at the overall distribution of games by genre for the previously selected data (PS4, XOne, 3DS platforms; data from 2012)."
   ]
  },
  {
   "cell_type": "code",
   "execution_count": 67,
   "metadata": {},
   "outputs": [],
   "source": [
    "# grouping by genres, sorting and selecting data\n",
    "genres_sales_all = df_3p.groupby(['genre'], as_index=False).agg({'global_sales': 'sum'}).sort_values('global_sales', ascending=False)"
   ]
  },
  {
   "cell_type": "code",
   "execution_count": 68,
   "metadata": {},
   "outputs": [
    {
     "data": {
      "image/png": "[encoded data removed]",
      "text/plain": [
       "<Figure size 864x576 with 1 Axes>"
      ]
     },
     "metadata": {
      "needs_background": "light"
     },
     "output_type": "display_data"
    }
   ],
   "source": [
    "# shape size\n",
    "plt.figure(figsize=(12, 8))\n",
    "\n",
    "# setting the parameters for plotting the graph\n",
    "ax = sns.barplot(y=genres_sales_all.genre,\n",
    "                 x=genres_sales_all.global_sales,\n",
    "                 orient='h',\n",
    "                 color='#e2b2ed',\n",
    "                 ci=None);\n",
    "\n",
    "# axis labels and titles\n",
    "plt.xlabel('global sales, Million USD')\n",
    "plt.title('Overall distribution of game sales by genre for PS4, XOne and 3DS since 2012');"
   ]
  },
  {
   "cell_type": "markdown",
   "metadata": {},
   "source": [
    "The most popular genres are Action, Shooter and Role-Playing. The fourth place is occupied by the Sports genre. Sales for other games differ significantly. Sales of games in the most unpopular genres (Puzzle and Strategy) differ tenfold compared to other genres."
   ]
  },
  {
   "cell_type": "markdown",
   "metadata": {},
   "source": [
    "Let's see the popularity of genres by platform."
   ]
  },
  {
   "cell_type": "code",
   "execution_count": 69,
   "metadata": {},
   "outputs": [],
   "source": [
    "# grouping by genres and platforms, sorting and selecting data\n",
    "genres_sales = df_3p.groupby(['genre', 'platform'], as_index=False).agg({'global_sales': 'sum'}).sort_values('global_sales', ascending=False)"
   ]
  },
  {
   "cell_type": "code",
   "execution_count": 70,
   "metadata": {},
   "outputs": [
    {
     "data": {
      "image/png": "[encoded data removed]",
      "text/plain": [
       "<Figure size 864x576 with 1 Axes>"
      ]
     },
     "metadata": {
      "needs_background": "light"
     },
     "output_type": "display_data"
    }
   ],
   "source": [
    "# shape size\n",
    "plt.figure(figsize=(12, 8))\n",
    "\n",
    "# setting the parameters for plotting the graph\n",
    "ax = sns.barplot(y=genres_sales.genre,\n",
    "                 x=genres_sales.global_sales,\n",
    "                 orient='h',\n",
    "                 color='#6925c2',\n",
    "                 palette=['#363636', '#f76f6f', '#49ba5a'],\n",
    "                 hue=genres_sales.platform,\n",
    "                 hue_order=['PS4', '3DS', 'XOne']\n",
    "                 );\n",
    "\n",
    "# axis labels and titles\n",
    "plt.xlabel('global sales, Million USD')\n",
    "plt.title('Distribution of game sales by genre for PS4, XOne and 3DS since 2012');"
   ]
  },
  {
   "cell_type": "markdown",
   "metadata": {},
   "source": [
    "It is interesting to note that the 3DS platform stands out in terms of genre preferences. For example, the Shooter genre is not at all popular on it, while Role-Playing takes first place by a wide margin. Genre Sports (4th place in the overall ranking) is the most popular among PS4 users."
   ]
  },
  {
   "cell_type": "markdown",
   "metadata": {},
   "source": [
    "\n",
    "**Conclusions**"
   ]
  },
  {
   "cell_type": "markdown",
   "metadata": {},
   "source": [
    "At this stage, an exploratory analysis of the data was carried out.\n",
    "The number of games released in different periods is certain (half of the games presented were released from 2007 to 2016).\n",
    "\n",
    "The average life cycle of the popularity of gaming platforms (about 6 years) is noted.\n",
    "\n",
    "The three most relevant platforms at the moment and in terms of perspectives for the next few years (PS3, XOne, 3DS) have been identified.\n",
    "The correlation between critics' ratings and user's ratings is determined. In general, critic ratings are weakly correlated with sales, and user ratings and sales have a very weak correlation (virtually zero).\n",
    "\n",
    "The most popular game genres over the past 5 years (Action, Shooter and Role-Playing) have been found. A breakdown of the popularity of genres by platform was obtained (the preferences of users of the 3DS platform stand out from the background of other users: for example, such users are not at all interested in the Shooter game genre, which is more than popular on other platforms).\n",
    "\n",
    "It was also noted that a small number of hit games generates most of the total revenue. Sales of which are dozens of times higher than the sales of the average by the standards of the total global sales of games."
   ]
  },
  {
   "cell_type": "markdown",
   "metadata": {},
   "source": [
    "## Stage 4. User portrait of each region"
   ]
  },
  {
   "cell_type": "markdown",
   "metadata": {},
   "source": [
    "Let's determine for the user of each region the most popular platforms, the most popular genres, as well as the impact of the ESRB rating on sales by region"
   ]
  },
  {
   "cell_type": "markdown",
   "metadata": {},
   "source": [
    "Let's take the most relevant data, making a sample for the last 5 years (starting from 2012)."
   ]
  },
  {
   "cell_type": "code",
   "execution_count": 71,
   "metadata": {},
   "outputs": [],
   "source": [
    "# select data for the last five years\n",
    "df_4 = df[df['year_of_release'] > 2011].reset_index(drop=True)"
   ]
  },
  {
   "cell_type": "markdown",
   "metadata": {},
   "source": [
    "**Determine the popularity of platforms by region.**"
   ]
  },
  {
   "cell_type": "code",
   "execution_count": 72,
   "metadata": {},
   "outputs": [],
   "source": [
    "# get the required data slice\n",
    "df_4_region = df_4[['platform', 'na_sales', 'eu_sales', 'jp_sales']] \\\n",
    "    .groupby('platform', as_index=False) \\\n",
    "    .agg({'na_sales': 'sum', 'eu_sales': 'sum', 'jp_sales': 'sum'}) \\\n",
    "    .melt(id_vars=['platform']) \\\n",
    "    .sort_values('value', ascending=False)"
   ]
  },
  {
   "cell_type": "code",
   "execution_count": 73,
   "metadata": {},
   "outputs": [
    {
     "data": {
      "image/png": "[encoded data removed]",
      "text/plain": [
       "<Figure size 864x576 with 1 Axes>"
      ]
     },
     "metadata": {
      "needs_background": "light"
     },
     "output_type": "display_data"
    }
   ],
   "source": [
    "# shape size\n",
    "plt.figure(figsize=(12, 8))\n",
    "\n",
    "# setting the parameters for plotting the graph\n",
    "ax = sns.barplot(y=df_4_region.platform,\n",
    "                 x=df_4_region.value,\n",
    "                 orient='h',\n",
    "                 color='#6925c2',\n",
    "                 palette='viridis',\n",
    "                 hue=df_4_region.variable);\n",
    "\n",
    "# axis labels and titles\n",
    "plt.xlabel('global sales, Million USD')\n",
    "plt.title('Distribution of game sales by region depending on the gaming platform since 2012');"
   ]
  },
  {
   "cell_type": "markdown",
   "metadata": {},
   "source": [
    "The list of Top 5 platforms is as follows:\n",
    "1. PS4\n",
    "2.X360\n",
    "3. PS3\n",
    "4.Xone\n",
    "5.3DS\n",
    "\n",
    "It should be noted that in the European market the platforms of the manufacturer Sony (PS4, PS3) are the most popular, while in North America the most popular game consoles are Microsoft (X360 and its successor XOne). In Japan, the most popular platform is the 3DS produced by the local company Nintendo."
   ]
  },
  {
   "cell_type": "markdown",
   "metadata": {},
   "source": [
    "**Let's define the most popular game genres by region.**"
   ]
  },
  {
   "cell_type": "code",
   "execution_count": 74,
   "metadata": {},
   "outputs": [],
   "source": [
    "# get the required data slice\n",
    "df_4_genre = df_4[['genre', 'na_sales', 'eu_sales', 'jp_sales']] \\\n",
    "    .groupby('genre', as_index=False) \\\n",
    "    .agg({'na_sales': 'sum', 'eu_sales': 'sum', 'jp_sales': 'sum'}) \\\n",
    "    .melt(id_vars=['genre']) \\\n",
    "    .sort_values('value', ascending=False)"
   ]
  },
  {
   "cell_type": "code",
   "execution_count": 75,
   "metadata": {},
   "outputs": [
    {
     "data": {
      "image/png": "[encoded data removed]",
      "text/plain": [
       "<Figure size 864x576 with 1 Axes>"
      ]
     },
     "metadata": {
      "needs_background": "light"
     },
     "output_type": "display_data"
    }
   ],
   "source": [
    "# shape size\n",
    "plt.figure(figsize=(12, 8))\n",
    "\n",
    "# setting the parameters for plotting the graph\n",
    "ax = sns.barplot(y=df_4_genre.genre,\n",
    "                 x=df_4_genre.value,\n",
    "                 orient='h',\n",
    "                 color='#6925c2',\n",
    "                 palette='viridis',\n",
    "                 hue=df_4_genre.variable,\n",
    "                 hue_order=['eu_sales', 'na_sales', 'jp_sales']);\n",
    "\n",
    "# axis labels and titles\n",
    "plt.xlabel('global sales, Million USD')\n",
    "plt.title('Distribution of game sales by region depending on the genre since 2012');"
   ]
  },
  {
   "cell_type": "markdown",
   "metadata": {},
   "source": [
    "List of Top 5 most popular genres:\n",
    "1. Action\n",
    "2 Shooter\n",
    "3. Sports\n",
    "4.Role Playing\n",
    "5.Misc\n",
    "\n",
    "Note that in Japan, shooters are much less popular in comparison with Europe and North America. In the Japanese archipelago, the most popular genres are Role-Playing and Action.\n",
    "It is also worth noting that the total sales of games of all genres in North America and Europe are approximately comparable, while in the Asian market it is less than half."
   ]
  },
  {
   "cell_type": "markdown",
   "metadata": {},
   "source": [
    "**Let's consider the impact of the ESRB rating on sales in a particular region**"
   ]
  },
  {
   "cell_type": "code",
   "execution_count": 76,
   "metadata": {},
   "outputs": [],
   "source": [
    "# get the required data slice\n",
    "df_4_rating = df_4[['rating', 'na_sales', 'eu_sales', 'jp_sales']] \\\n",
    "    .groupby('rating', as_index=False) \\\n",
    "    .agg({'na_sales': 'sum', 'eu_sales': 'sum', 'jp_sales': 'sum'}) \\\n",
    "    .melt(id_vars=['rating']) \\\n",
    "    .sort_values('value', ascending=False)"
   ]
  },
  {
   "cell_type": "code",
   "execution_count": 77,
   "metadata": {},
   "outputs": [
    {
     "data": {
      "image/png": "[encoded data removed]",
      "text/plain": [
       "<Figure size 864x576 with 1 Axes>"
      ]
     },
     "metadata": {
      "needs_background": "light"
     },
     "output_type": "display_data"
    }
   ],
   "source": [
    "# shape size\n",
    "plt.figure(figsize=(12, 8))\n",
    "\n",
    "# setting the parameters for plotting the graph\n",
    "ax = sns.barplot(y=df_4_rating.rating,\n",
    "                 x=df_4_rating.value,\n",
    "                 orient='h',\n",
    "                 color='#6925c2',\n",
    "                 palette='viridis',\n",
    "                 hue=df_4_rating.variable,\n",
    "                 hue_order=['eu_sales', 'na_sales', 'jp_sales']);\n",
    "\n",
    "# axis labels and titles\n",
    "plt.xlabel('global sales, Million USD')\n",
    "plt.title('Distribution of game sales by region depending on the assigned age rating since 2012');"
   ]
  },
  {
   "cell_type": "markdown",
   "metadata": {},
   "source": [
    "Games rated M (content suitable for over 16s) are twice as popular as the other categories in the European and North American markets. The rest of the game categories are distributed relatively evenly across these markets. In Japan, the most popular games, also exceeding twice the pursuers, are games whose age rating is unknown to us ('unknown'). First of all, this may be due not so much to user preferences, but to the fact that the rating organizer (ESRB, Location: New York City, New York, U.S) does not pay due attention to games released locally on the Asian market."
   ]
  },
  {
   "cell_type": "markdown",
   "metadata": {},
   "source": [
    "**Conclusion**"
   ]
  },
  {
   "cell_type": "markdown",
   "metadata": {},
   "source": [
    "After the analysis, we can conclude that the profile of the user of the North America and Europe regions does not differ much, while Asian consumers stand out according to the analyzed parameters (platform choice, favorite genre, situation with the rating of the best-selling game). Therefore, it is worth considering the historical and cultural differences of the regions, which are reflected directly in the preferences of users when doing business."
   ]
  },
  {
   "cell_type": "markdown",
   "metadata": {},
   "source": [
    "## Stage 5. Research of statistical indicators"
   ]
  },
  {
   "cell_type": "markdown",
   "metadata": {},
   "source": [
    "At this stage, we will study the user rating and the rating of critics in more detail. Let's explore the statistics."
   ]
  },
  {
   "cell_type": "markdown",
   "metadata": {},
   "source": [
    "Let's take the data slice used in the previous step (data for the last 5 years (starting from 2012)."
   ]
  },
  {
   "cell_type": "code",
   "execution_count": 78,
   "metadata": {},
   "outputs": [],
   "source": [
    "# get the necessary slice of data, bringing the critic_score to the dimension of user_score by dividing by 10\n",
    "df_5 = df_4.assign(critic_score= lambda x: x.critic_score / 10) \\\n",
    "    .groupby('genre', as_index=False)\\\n",
    "    .agg({'critic_score': 'mean', 'user_score': 'mean'}) \\\n",
    "    .melt(id_vars=['genre']) \\\n",
    "    .sort_values('value', ascending=False)"
   ]
  },
  {
   "cell_type": "code",
   "execution_count": 79,
   "metadata": {},
   "outputs": [
    {
     "data": {
      "image/png": "[encoded data removed]",
      "text/plain": [
       "<Figure size 864x576 with 1 Axes>"
      ]
     },
     "metadata": {
      "needs_background": "light"
     },
     "output_type": "display_data"
    }
   ],
   "source": [
    "# shape size\n",
    "plt.figure(figsize=(12, 8))\n",
    "\n",
    "# setting the parameters for plotting the graph\n",
    "ax = sns.barplot(y=df_5.genre,\n",
    "                 x=df_5.value,\n",
    "                 orient='h',\n",
    "                 color='#6925c2',\n",
    "                 palette=['#FF8785', '#10567E'],\n",
    "                 hue=df_5.variable);\n",
    "\n",
    "# axis labels and titles\n",
    "ax.legend(loc = 'best')\n",
    "plt.xlabel('score, scale from 0 to 10')\n",
    "plt.title('Average rating distribution by genre since 2012');"
   ]
  },
  {
   "cell_type": "markdown",
   "metadata": {},
   "source": [
    "In most cases, the assessments of critics and users agree quite well. Especially for the Puzzle and Role-Playing genres.\n",
    "The greatest discrepancies in ratings between critics and users are observed for the Sports and Racing genres (in both cases, critics are more favorable to games than users).\n",
    "The genres with the highest average critical acclaim are Strategy, Platform and Puzzle.\n",
    "It is interesting to note that for all genres, the average critic rating is almost always higher than the average user rating (exceptions: Puzzle and Adventure)."
   ]
  },
  {
   "cell_type": "markdown",
   "metadata": {},
   "source": [
    "Let's look at the distribution of critics' and users' ratings."
   ]
  },
  {
   "cell_type": "code",
   "execution_count": 80,
   "metadata": {},
   "outputs": [
    {
     "data": {
      "image/png": "[encoded data removed]",
      "text/plain": [
       "<Figure size 432x288 with 1 Axes>"
      ]
     },
     "metadata": {
      "needs_background": "light"
     },
     "output_type": "display_data"
    },
    {
     "data": {
      "image/png": "[encoded data removed]",
      "text/plain": [
       "<Figure size 432x288 with 1 Axes>"
      ]
     },
     "metadata": {
      "needs_background": "light"
     },
     "output_type": "display_data"
    }
   ],
   "source": [
    "# constructing a histogram for critics' ratings\n",
    "df_4.plot(y='critic_score',\n",
    "          kind='hist',\n",
    "          bins=20,\n",
    "          color='#FF8785')\n",
    "\n",
    "# axis labels and titles\n",
    "plt.legend(loc = 'upper left')\n",
    "plt.xlabel('score, scale from 0 to 100')\n",
    "plt.ylabel('number of ratings')\n",
    "plt.title('Histogram of the distribution of critic rating values ​​since 2012');\n",
    "\n",
    "\n",
    "# building a histogram for user ratings\n",
    "df_4.plot(y='user_score',\n",
    "          kind='hist',\n",
    "          bins=20,\n",
    "          color='#10567E')\n",
    "\n",
    "# axis labels and titles\n",
    "plt.legend(loc = 'best')\n",
    "plt.xlabel('score, scale from 0 to 10')\n",
    "plt.ylabel('number of ratings')\n",
    "plt.title('Histogram of the distribution of user rating values ​​since 2012');"
   ]
  },
  {
   "cell_type": "markdown",
   "metadata": {},
   "source": [
    "Both distributions are close to normal. They are unimodal and symmetrical in shape. This means that there are no serious errors in the data and you can treat them as really independent and random relative to each other. Therefore, in what follows we can use the basic statistical mat. apparatus for testing various hypotheses."
   ]
  },
  {
   "cell_type": "markdown",
   "metadata": {},
   "source": [
    "Let's look at the distributions of the main statistics of critics' and users' ratings (mean, variance, standard deviation)."
   ]
  },
  {
   "cell_type": "code",
   "execution_count": 81,
   "metadata": {},
   "outputs": [
    {
     "data": {
      "text/html": [
       "<style  type=\"text/css\" >\n",
       "    #T_59f9fed6_09a0_11ed_b3e2_00f48de9375crow5_col2 {\n",
       "            background-color:  #FFC3C2;\n",
       "            : ;\n",
       "        }    #T_59f9fed6_09a0_11ed_b3e2_00f48de9375crow5_col3 {\n",
       "            background-color:  #FFC3C2;\n",
       "            : ;\n",
       "        }    #T_59f9fed6_09a0_11ed_b3e2_00f48de9375crow5_col4 {\n",
       "            : ;\n",
       "            background-color:  #D8ECC1;\n",
       "        }    #T_59f9fed6_09a0_11ed_b3e2_00f48de9375crow5_col5 {\n",
       "            background-color:  #FFC3C2;\n",
       "            : ;\n",
       "        }    #T_59f9fed6_09a0_11ed_b3e2_00f48de9375crow5_col6 {\n",
       "            background-color:  #FFC3C2;\n",
       "            : ;\n",
       "        }    #T_59f9fed6_09a0_11ed_b3e2_00f48de9375crow9_col1 {\n",
       "            background-color:  #FFC3C2;\n",
       "            : ;\n",
       "        }    #T_59f9fed6_09a0_11ed_b3e2_00f48de9375crow10_col2 {\n",
       "            : ;\n",
       "            background-color:  #D8ECC1;\n",
       "        }    #T_59f9fed6_09a0_11ed_b3e2_00f48de9375crow10_col3 {\n",
       "            : ;\n",
       "            background-color:  #D8ECC1;\n",
       "        }    #T_59f9fed6_09a0_11ed_b3e2_00f48de9375crow10_col4 {\n",
       "            background-color:  #FFC3C2;\n",
       "            : ;\n",
       "        }    #T_59f9fed6_09a0_11ed_b3e2_00f48de9375crow11_col1 {\n",
       "            : ;\n",
       "            background-color:  #D8ECC1;\n",
       "        }    #T_59f9fed6_09a0_11ed_b3e2_00f48de9375crow11_col5 {\n",
       "            : ;\n",
       "            background-color:  #D8ECC1;\n",
       "        }    #T_59f9fed6_09a0_11ed_b3e2_00f48de9375crow11_col6 {\n",
       "            : ;\n",
       "            background-color:  #D8ECC1;\n",
       "        }</style><table id=\"T_59f9fed6_09a0_11ed_b3e2_00f48de9375c\" ><thead>    <tr>        <th class=\"blank level0\" ></th>        <th class=\"col_heading level0 col0\" >genre</th>        <th class=\"col_heading level0 col1\" colspan=3>critic_score</th>        <th class=\"col_heading level0 col4\" colspan=3>user_score</th>    </tr>    <tr>        <th class=\"blank level1\" ></th>        <th class=\"col_heading level1 col0\" ></th>        <th class=\"col_heading level1 col1\" >mean</th>        <th class=\"col_heading level1 col2\" >var</th>        <th class=\"col_heading level1 col3\" >std</th>        <th class=\"col_heading level1 col4\" >mean</th>        <th class=\"col_heading level1 col5\" >var</th>        <th class=\"col_heading level1 col6\" >std</th>    </tr></thead><tbody>\n",
       "                <tr>\n",
       "                        <th id=\"T_59f9fed6_09a0_11ed_b3e2_00f48de9375clevel0_row0\" class=\"row_heading level0 row0\" >0</th>\n",
       "                        <td id=\"T_59f9fed6_09a0_11ed_b3e2_00f48de9375crow0_col0\" class=\"data row0 col0\" >Action</td>\n",
       "                        <td id=\"T_59f9fed6_09a0_11ed_b3e2_00f48de9375crow0_col1\" class=\"data row0 col1\" >7.137844</td>\n",
       "                        <td id=\"T_59f9fed6_09a0_11ed_b3e2_00f48de9375crow0_col2\" class=\"data row0 col2\" >1.462588</td>\n",
       "                        <td id=\"T_59f9fed6_09a0_11ed_b3e2_00f48de9375crow0_col3\" class=\"data row0 col3\" >1.209375</td>\n",
       "                        <td id=\"T_59f9fed6_09a0_11ed_b3e2_00f48de9375crow0_col4\" class=\"data row0 col4\" >6.825048</td>\n",
       "                        <td id=\"T_59f9fed6_09a0_11ed_b3e2_00f48de9375crow0_col5\" class=\"data row0 col5\" >1.889084</td>\n",
       "                        <td id=\"T_59f9fed6_09a0_11ed_b3e2_00f48de9375crow0_col6\" class=\"data row0 col6\" >1.374440</td>\n",
       "            </tr>\n",
       "            <tr>\n",
       "                        <th id=\"T_59f9fed6_09a0_11ed_b3e2_00f48de9375clevel0_row1\" class=\"row_heading level0 row1\" >1</th>\n",
       "                        <td id=\"T_59f9fed6_09a0_11ed_b3e2_00f48de9375crow1_col0\" class=\"data row1 col0\" >Adventure</td>\n",
       "                        <td id=\"T_59f9fed6_09a0_11ed_b3e2_00f48de9375crow1_col1\" class=\"data row1 col1\" >7.266102</td>\n",
       "                        <td id=\"T_59f9fed6_09a0_11ed_b3e2_00f48de9375crow1_col2\" class=\"data row1 col2\" >1.210210</td>\n",
       "                        <td id=\"T_59f9fed6_09a0_11ed_b3e2_00f48de9375crow1_col3\" class=\"data row1 col3\" >1.100096</td>\n",
       "                        <td id=\"T_59f9fed6_09a0_11ed_b3e2_00f48de9375crow1_col4\" class=\"data row1 col4\" >7.466667</td>\n",
       "                        <td id=\"T_59f9fed6_09a0_11ed_b3e2_00f48de9375crow1_col5\" class=\"data row1 col5\" >1.632394</td>\n",
       "                        <td id=\"T_59f9fed6_09a0_11ed_b3e2_00f48de9375crow1_col6\" class=\"data row1 col6\" >1.277652</td>\n",
       "            </tr>\n",
       "            <tr>\n",
       "                        <th id=\"T_59f9fed6_09a0_11ed_b3e2_00f48de9375clevel0_row2\" class=\"row_heading level0 row2\" >2</th>\n",
       "                        <td id=\"T_59f9fed6_09a0_11ed_b3e2_00f48de9375crow2_col0\" class=\"data row2 col0\" >Fighting</td>\n",
       "                        <td id=\"T_59f9fed6_09a0_11ed_b3e2_00f48de9375crow2_col1\" class=\"data row2 col1\" >7.040625</td>\n",
       "                        <td id=\"T_59f9fed6_09a0_11ed_b3e2_00f48de9375crow2_col2\" class=\"data row2 col2\" >1.797688</td>\n",
       "                        <td id=\"T_59f9fed6_09a0_11ed_b3e2_00f48de9375crow2_col3\" class=\"data row2 col3\" >1.340779</td>\n",
       "                        <td id=\"T_59f9fed6_09a0_11ed_b3e2_00f48de9375crow2_col4\" class=\"data row2 col4\" >6.895714</td>\n",
       "                        <td id=\"T_59f9fed6_09a0_11ed_b3e2_00f48de9375crow2_col5\" class=\"data row2 col5\" >2.048532</td>\n",
       "                        <td id=\"T_59f9fed6_09a0_11ed_b3e2_00f48de9375crow2_col6\" class=\"data row2 col6\" >1.431269</td>\n",
       "            </tr>\n",
       "            <tr>\n",
       "                        <th id=\"T_59f9fed6_09a0_11ed_b3e2_00f48de9375clevel0_row3\" class=\"row_heading level0 row3\" >3</th>\n",
       "                        <td id=\"T_59f9fed6_09a0_11ed_b3e2_00f48de9375crow3_col0\" class=\"data row3 col0\" >Misc</td>\n",
       "                        <td id=\"T_59f9fed6_09a0_11ed_b3e2_00f48de9375crow3_col1\" class=\"data row3 col1\" >7.280702</td>\n",
       "                        <td id=\"T_59f9fed6_09a0_11ed_b3e2_00f48de9375crow3_col2\" class=\"data row3 col2\" >1.010871</td>\n",
       "                        <td id=\"T_59f9fed6_09a0_11ed_b3e2_00f48de9375crow3_col3\" class=\"data row3 col3\" >1.005421</td>\n",
       "                        <td id=\"T_59f9fed6_09a0_11ed_b3e2_00f48de9375crow3_col4\" class=\"data row3 col4\" >6.938806</td>\n",
       "                        <td id=\"T_59f9fed6_09a0_11ed_b3e2_00f48de9375crow3_col5\" class=\"data row3 col5\" >1.582411</td>\n",
       "                        <td id=\"T_59f9fed6_09a0_11ed_b3e2_00f48de9375crow3_col6\" class=\"data row3 col6\" >1.257939</td>\n",
       "            </tr>\n",
       "            <tr>\n",
       "                        <th id=\"T_59f9fed6_09a0_11ed_b3e2_00f48de9375clevel0_row4\" class=\"row_heading level0 row4\" >4</th>\n",
       "                        <td id=\"T_59f9fed6_09a0_11ed_b3e2_00f48de9375crow4_col0\" class=\"data row4 col0\" >Platform</td>\n",
       "                        <td id=\"T_59f9fed6_09a0_11ed_b3e2_00f48de9375crow4_col1\" class=\"data row4 col1\" >7.461017</td>\n",
       "                        <td id=\"T_59f9fed6_09a0_11ed_b3e2_00f48de9375crow4_col2\" class=\"data row4 col2\" >1.880695</td>\n",
       "                        <td id=\"T_59f9fed6_09a0_11ed_b3e2_00f48de9375crow4_col3\" class=\"data row4 col3\" >1.371385</td>\n",
       "                        <td id=\"T_59f9fed6_09a0_11ed_b3e2_00f48de9375crow4_col4\" class=\"data row4 col4\" >6.806061</td>\n",
       "                        <td id=\"T_59f9fed6_09a0_11ed_b3e2_00f48de9375crow4_col5\" class=\"data row4 col5\" >2.737193</td>\n",
       "                        <td id=\"T_59f9fed6_09a0_11ed_b3e2_00f48de9375crow4_col6\" class=\"data row4 col6\" >1.654447</td>\n",
       "            </tr>\n",
       "            <tr>\n",
       "                        <th id=\"T_59f9fed6_09a0_11ed_b3e2_00f48de9375clevel0_row5\" class=\"row_heading level0 row5\" >5</th>\n",
       "                        <td id=\"T_59f9fed6_09a0_11ed_b3e2_00f48de9375crow5_col0\" class=\"data row5 col0\" >Puzzle</td>\n",
       "                        <td id=\"T_59f9fed6_09a0_11ed_b3e2_00f48de9375crow5_col1\" class=\"data row5 col1\" >7.544444</td>\n",
       "                        <td id=\"T_59f9fed6_09a0_11ed_b3e2_00f48de9375crow5_col2\" class=\"data row5 col2\" >0.482778</td>\n",
       "                        <td id=\"T_59f9fed6_09a0_11ed_b3e2_00f48de9375crow5_col3\" class=\"data row5 col3\" >0.694822</td>\n",
       "                        <td id=\"T_59f9fed6_09a0_11ed_b3e2_00f48de9375crow5_col4\" class=\"data row5 col4\" >7.633333</td>\n",
       "                        <td id=\"T_59f9fed6_09a0_11ed_b3e2_00f48de9375crow5_col5\" class=\"data row5 col5\" >0.790000</td>\n",
       "                        <td id=\"T_59f9fed6_09a0_11ed_b3e2_00f48de9375crow5_col6\" class=\"data row5 col6\" >0.888819</td>\n",
       "            </tr>\n",
       "            <tr>\n",
       "                        <th id=\"T_59f9fed6_09a0_11ed_b3e2_00f48de9375clevel0_row6\" class=\"row_heading level0 row6\" >6</th>\n",
       "                        <td id=\"T_59f9fed6_09a0_11ed_b3e2_00f48de9375crow6_col0\" class=\"data row6 col0\" >Racing</td>\n",
       "                        <td id=\"T_59f9fed6_09a0_11ed_b3e2_00f48de9375crow6_col1\" class=\"data row6 col1\" >7.186420</td>\n",
       "                        <td id=\"T_59f9fed6_09a0_11ed_b3e2_00f48de9375crow6_col2\" class=\"data row6 col2\" >1.573438</td>\n",
       "                        <td id=\"T_59f9fed6_09a0_11ed_b3e2_00f48de9375crow6_col3\" class=\"data row6 col3\" >1.254368</td>\n",
       "                        <td id=\"T_59f9fed6_09a0_11ed_b3e2_00f48de9375crow6_col4\" class=\"data row6 col4\" >6.151163</td>\n",
       "                        <td id=\"T_59f9fed6_09a0_11ed_b3e2_00f48de9375crow6_col5\" class=\"data row6 col5\" >2.780881</td>\n",
       "                        <td id=\"T_59f9fed6_09a0_11ed_b3e2_00f48de9375crow6_col6\" class=\"data row6 col6\" >1.667597</td>\n",
       "            </tr>\n",
       "            <tr>\n",
       "                        <th id=\"T_59f9fed6_09a0_11ed_b3e2_00f48de9375clevel0_row7\" class=\"row_heading level0 row7\" >7</th>\n",
       "                        <td id=\"T_59f9fed6_09a0_11ed_b3e2_00f48de9375crow7_col0\" class=\"data row7 col0\" >Role-Playing</td>\n",
       "                        <td id=\"T_59f9fed6_09a0_11ed_b3e2_00f48de9375crow7_col1\" class=\"data row7 col1\" >7.304969</td>\n",
       "                        <td id=\"T_59f9fed6_09a0_11ed_b3e2_00f48de9375crow7_col2\" class=\"data row7 col2\" >1.508600</td>\n",
       "                        <td id=\"T_59f9fed6_09a0_11ed_b3e2_00f48de9375crow7_col3\" class=\"data row7 col3\" >1.228251</td>\n",
       "                        <td id=\"T_59f9fed6_09a0_11ed_b3e2_00f48de9375crow7_col4\" class=\"data row7 col4\" >7.258480</td>\n",
       "                        <td id=\"T_59f9fed6_09a0_11ed_b3e2_00f48de9375crow7_col5\" class=\"data row7 col5\" >1.634913</td>\n",
       "                        <td id=\"T_59f9fed6_09a0_11ed_b3e2_00f48de9375crow7_col6\" class=\"data row7 col6\" >1.278637</td>\n",
       "            </tr>\n",
       "            <tr>\n",
       "                        <th id=\"T_59f9fed6_09a0_11ed_b3e2_00f48de9375clevel0_row8\" class=\"row_heading level0 row8\" >8</th>\n",
       "                        <td id=\"T_59f9fed6_09a0_11ed_b3e2_00f48de9375crow8_col0\" class=\"data row8 col0\" >Shooter</td>\n",
       "                        <td id=\"T_59f9fed6_09a0_11ed_b3e2_00f48de9375crow8_col1\" class=\"data row8 col1\" >7.342197</td>\n",
       "                        <td id=\"T_59f9fed6_09a0_11ed_b3e2_00f48de9375crow8_col2\" class=\"data row8 col2\" >1.548849</td>\n",
       "                        <td id=\"T_59f9fed6_09a0_11ed_b3e2_00f48de9375crow8_col3\" class=\"data row8 col3\" >1.244527</td>\n",
       "                        <td id=\"T_59f9fed6_09a0_11ed_b3e2_00f48de9375crow8_col4\" class=\"data row8 col4\" >6.435897</td>\n",
       "                        <td id=\"T_59f9fed6_09a0_11ed_b3e2_00f48de9375crow8_col5\" class=\"data row8 col5\" >2.065509</td>\n",
       "                        <td id=\"T_59f9fed6_09a0_11ed_b3e2_00f48de9375crow8_col6\" class=\"data row8 col6\" >1.437188</td>\n",
       "            </tr>\n",
       "            <tr>\n",
       "                        <th id=\"T_59f9fed6_09a0_11ed_b3e2_00f48de9375clevel0_row9\" class=\"row_heading level0 row9\" >9</th>\n",
       "                        <td id=\"T_59f9fed6_09a0_11ed_b3e2_00f48de9375crow9_col0\" class=\"data row9 col0\" >Simulation</td>\n",
       "                        <td id=\"T_59f9fed6_09a0_11ed_b3e2_00f48de9375crow9_col1\" class=\"data row9 col1\" >6.661538</td>\n",
       "                        <td id=\"T_59f9fed6_09a0_11ed_b3e2_00f48de9375crow9_col2\" class=\"data row9 col2\" >1.837692</td>\n",
       "                        <td id=\"T_59f9fed6_09a0_11ed_b3e2_00f48de9375crow9_col3\" class=\"data row9 col3\" >1.355615</td>\n",
       "                        <td id=\"T_59f9fed6_09a0_11ed_b3e2_00f48de9375crow9_col4\" class=\"data row9 col4\" >6.511905</td>\n",
       "                        <td id=\"T_59f9fed6_09a0_11ed_b3e2_00f48de9375crow9_col5\" class=\"data row9 col5\" >3.285465</td>\n",
       "                        <td id=\"T_59f9fed6_09a0_11ed_b3e2_00f48de9375crow9_col6\" class=\"data row9 col6\" >1.812585</td>\n",
       "            </tr>\n",
       "            <tr>\n",
       "                        <th id=\"T_59f9fed6_09a0_11ed_b3e2_00f48de9375clevel0_row10\" class=\"row_heading level0 row10\" >10</th>\n",
       "                        <td id=\"T_59f9fed6_09a0_11ed_b3e2_00f48de9375crow10_col0\" class=\"data row10 col0\" >Sports</td>\n",
       "                        <td id=\"T_59f9fed6_09a0_11ed_b3e2_00f48de9375crow10_col1\" class=\"data row10 col1\" >7.289510</td>\n",
       "                        <td id=\"T_59f9fed6_09a0_11ed_b3e2_00f48de9375crow10_col2\" class=\"data row10 col2\" >2.394185</td>\n",
       "                        <td id=\"T_59f9fed6_09a0_11ed_b3e2_00f48de9375crow10_col3\" class=\"data row10 col3\" >1.547315</td>\n",
       "                        <td id=\"T_59f9fed6_09a0_11ed_b3e2_00f48de9375crow10_col4\" class=\"data row10 col4\" >5.455897</td>\n",
       "                        <td id=\"T_59f9fed6_09a0_11ed_b3e2_00f48de9375crow10_col5\" class=\"data row10 col5\" >3.022890</td>\n",
       "                        <td id=\"T_59f9fed6_09a0_11ed_b3e2_00f48de9375crow10_col6\" class=\"data row10 col6\" >1.738646</td>\n",
       "            </tr>\n",
       "            <tr>\n",
       "                        <th id=\"T_59f9fed6_09a0_11ed_b3e2_00f48de9375clevel0_row11\" class=\"row_heading level0 row11\" >11</th>\n",
       "                        <td id=\"T_59f9fed6_09a0_11ed_b3e2_00f48de9375crow11_col0\" class=\"data row11 col0\" >Strategy</td>\n",
       "                        <td id=\"T_59f9fed6_09a0_11ed_b3e2_00f48de9375crow11_col1\" class=\"data row11 col1\" >7.587097</td>\n",
       "                        <td id=\"T_59f9fed6_09a0_11ed_b3e2_00f48de9375crow11_col2\" class=\"data row11 col2\" >1.566495</td>\n",
       "                        <td id=\"T_59f9fed6_09a0_11ed_b3e2_00f48de9375crow11_col3\" class=\"data row11 col3\" >1.251597</td>\n",
       "                        <td id=\"T_59f9fed6_09a0_11ed_b3e2_00f48de9375crow11_col4\" class=\"data row11 col4\" >6.420000</td>\n",
       "                        <td id=\"T_59f9fed6_09a0_11ed_b3e2_00f48de9375crow11_col5\" class=\"data row11 col5\" >4.124588</td>\n",
       "                        <td id=\"T_59f9fed6_09a0_11ed_b3e2_00f48de9375crow11_col6\" class=\"data row11 col6\" >2.030908</td>\n",
       "            </tr>\n",
       "    </tbody></table>"
      ],
      "text/plain": [
       "<pandas.io.formats.style.Styler at 0x256fd9ad640>"
      ]
     },
     "execution_count": 81,
     "metadata": {},
     "output_type": "execute_result"
    }
   ],
   "source": [
    "# count statistics\n",
    "# the maximum values ​​for each column are highlighted in green\n",
    "# the minimum values ​​for each column are highlighted in red\n",
    "df_5_wide = df_4.assign(critic_score= lambda x: x.critic_score / 10) \\\n",
    "    .groupby('genre', as_index=False)\\\n",
    "    .agg({'critic_score': ['mean', 'var', 'std'],\n",
    "          'user_score': ['mean', 'var', 'std']}) \\\n",
    "    .style.highlight_min(axis=0, color='#FFC3C2') \\\n",
    "    .highlight_max(axis=0, color='#D8ECC1')\n",
    "\n",
    "df_5_wide"
   ]
  },
  {
   "cell_type": "markdown",
   "metadata": {},
   "source": [
    "**Conclusion**"
   ]
  },
  {
   "cell_type": "markdown",
   "metadata": {},
   "source": [
    "The maximum average rating from critics was received by games of the Strategy genre, the minimum games of the Simulation genre. The greatest spread of ratings among critics is observed for games of the Sports genre, the smallest for Puzzle games.\n",
    "\n",
    "The maximum average rating of users was received by games of the Puzzle genre, the minimum games of the Sports genre. The greatest spread of ratings among users is observed for games of the Strategy genre, the smallest for Puzzle games.    \n",
    "\n",
    "Perhaps in the ranks of ordinary users there is a group of game lovers who have a pronounced negative attitude towards games of the Sport genre and rate these games as low as possible. Critics are more based not on personal preferences of genres, but on the quality of games in general. This may explain the highest delta of ratings for Sports games by critics and users, as well as the largest spread of ratings (variance and standard deviation) for Sports games among users, after the Strategy genre."
   ]
  },
  {
   "cell_type": "markdown",
   "metadata": {},
   "source": [
    "## Stage 6. Hypothesis testing"
   ]
  },
  {
   "cell_type": "markdown",
   "metadata": {},
   "source": [
    "**Hypothesis test #1.**"
   ]
  },
  {
   "cell_type": "markdown",
   "metadata": {},
   "source": [
    "Null hypothesis: The average user ratings of the Xbox One and PC platforms are the same.\n",
    "Alternative hypothesis: The average user ratings of the Xbox One and PC platforms are different."
   ]
  },
  {
   "cell_type": "code",
   "execution_count": 82,
   "metadata": {},
   "outputs": [
    {
     "name": "stdout",
     "output_type": "stream",
     "text": [
      "The sample variances are different. We will use equal_var = False\n",
      "p-value: 0.5489537965134912\n",
      "failed to reject hypothesis\n"
     ]
    }
   ],
   "source": [
    "# we will make a sample of the data required to test the hypothesis\n",
    "sample_1 = np.asarray(df_4.query('platform == \"XOne\"').user_score.to_list())\n",
    "sample_2 = np.asarray(df_4.query('platform == \"PC\"').user_score.to_list())\n",
    "\n",
    "# removing NaN values ​​from our selections\n",
    "sample_1_na = sample_1[~np.isnan(sample_1)]\n",
    "sample_2_na = sample_2[~np.isnan(sample_2)]\n",
    "\n",
    "alpha = 0.05  # critical level of statistical significance\n",
    "# if p-value is less than it - reject the hypothesis\n",
    "\n",
    "# test for equality of variances\n",
    "lv = st.levene(sample_1_na, sample_2_na)\n",
    "if lv.pvalue > alpha:\n",
    "    param = True\n",
    "    print('Both samples have similar variances')\n",
    "else:\n",
    "    print('The sample variances are different. We will use equal_var = False')\n",
    "    param = False\n",
    "\n",
    "    \n",
    "# t-test    \n",
    "results = st.ttest_ind(sample_1_na, sample_2_na, equal_var=param)\n",
    "\n",
    "\n",
    "print('p-value:', results.pvalue)\n",
    "\n",
    "if results.pvalue < alpha:\n",
    "    print(\"hypothesis is rejected\")\n",
    "else:\n",
    "    print(\"failed to reject hypothesis\")"
   ]
  },
  {
   "cell_type": "markdown",
   "metadata": {},
   "source": [
    "The null hypothesis could not be rejected. Thus, we have strong reasons to believe that the average rankings of the Xbox One and PC platform are the same"
   ]
  },
  {
   "cell_type": "markdown",
   "metadata": {},
   "source": [
    "**Hypothesis test #2.**"
   ]
  },
  {
   "cell_type": "markdown",
   "metadata": {},
   "source": [
    "Null hypothesis: the average user ratings of the Action and Sports genres are the same.\n",
    "Alternative hypothesis: the average user ratings of the Action and Sports genres are different"
   ]
  },
  {
   "cell_type": "code",
   "execution_count": 83,
   "metadata": {},
   "outputs": [
    {
     "name": "stdout",
     "output_type": "stream",
     "text": [
      "The sample variances are different. We will use equal_var = False\n",
      "p-value: 4.24307776572644e-20\n",
      "Rejecting the null hypothesis\n"
     ]
    }
   ],
   "source": [
    "# we will make a sample of the data required to test the hypothesis\n",
    "sample_1 = np.asarray(df_4.query('genre == \"Action\"').user_score.to_list())\n",
    "sample_2 = np.asarray(df_4.query('genre == \"Sports\"').user_score.to_list())\n",
    "\n",
    "# removing NaN values ​​from our selections\n",
    "sample_1_na = sample_1[~np.isnan(sample_1)]\n",
    "sample_2_na = sample_2[~np.isnan(sample_2)]\n",
    "\n",
    "alpha = 0.05  # critical level of statistical significance\n",
    "# if p-value is less than it, we reject the hypothesis\n",
    "\n",
    "\n",
    "# test for equality of variances\n",
    "lv = st.levene(sample_1_na, sample_2_na)\n",
    "if lv.pvalue > alpha:\n",
    "    param = True\n",
    "    print('Both samples have similar variances')\n",
    "else:\n",
    "    print('The sample variances are different. We will use equal_var = False')\n",
    "    param = False\n",
    "\n",
    "    \n",
    "# t-test    \n",
    "results = st.ttest_ind(sample_1_na, sample_2_na, equal_var=param)\n",
    "\n",
    "\n",
    "print('p-value:', results.pvalue)\n",
    "\n",
    "if results.pvalue < alpha:\n",
    "    print(\"Rejecting the null hypothesis\")\n",
    "else:\n",
    "    print(\"Failed to reject the null hypothesis\")"
   ]
  },
  {
   "cell_type": "markdown",
   "metadata": {},
   "source": [
    "We were able to reject the null hypothesis. Thus, we have strong reasons to believe that the average user ratings of the Action and Sports genres are different."
   ]
  },
  {
   "cell_type": "markdown",
   "metadata": {},
   "source": [
    "**Conclusion**"
   ]
  },
  {
   "cell_type": "markdown",
   "metadata": {},
   "source": [
    "At this stage, we were able to test two hypotheses about average user ratings. As a result of the hypothesis testing, we can now assume with a high degree of certainty that:\n",
    "* the average user ratings of the Xbox One and PC platforms are the same;\n",
    "* Average user ratings for Action and Sports genres are different."
   ]
  },
  {
   "cell_type": "markdown",
   "metadata": {},
   "source": [
    "## Stage 7. Research results"
   ]
  },
  {
   "cell_type": "markdown",
   "metadata": {},
   "source": [
    "**Working hypotheses**\n",
    "* The average user ratings of the Xbox One and PC platforms are the same;\n",
    "* Average user ratings for Action and Sports genres are different.\n",
    "\n",
    "**General conclusions**\n",
    "* half of all video games were released between 2007 and 2016;\n",
    "* the peak of global sales of released games was in 2008-2009. At the moment, the video game industry is in a recession;\n",
    "* the life cycle of a video game platform is about 7-10 years;\n",
    "* for the near future, platforms are promising: PS4, XOne and DS3;\n",
    "* the most popular game genres over the past 5 years: Action, Shooter and Role-Playing;\n",
    "* most of the total revenue is generated by a small number of hit games, the sales of which are dozens of times higher than the sales of other games;\n",
    "* The user profile of North America and Europe does not differ much in preferences, while Asian consumers stand out both in terms of platform choice and favorite genre. Therefore, it is worth considering the historical and cultural differences of the regions, which are reflected directly in the preferences of users when doing business;\n",
    "* critics' and users' ratings have an average correlation and generally agree well with each other;\n",
    "* At the same time, it was found that critics' ratings and user ratings do not greatly affect the dynamics of sales (in both cases, a weak correlation is observed).\n",
    "* As a result of testing hypotheses, we were able to confirm the first hypothesis and refute the second one.\n",
    "\n",
    "**General recommendations**\n",
    "* bet on the sale of games for platforms PS4, XOne and DS3;\n",
    "* give preference to games of the Action, Shooter and Role-Playing genres;\n",
    "* take into account the specifics of the Asian market when launching advertising campaigns;\n",
    "* in the long term, think about business diversification and / or other sources of revenue"
   ]
  },
  {
   "cell_type": "code",
   "execution_count": null,
   "metadata": {},
   "outputs": [],
   "source": []
  }
 ],
 "metadata": {
  "kernelspec": {
   "display_name": "Python 3",
   "language": "python",
   "name": "python3"
  },
  "language_info": {
   "codemirror_mode": {
    "name": "ipython",
    "version": 3
   },
   "file_extension": ".py",
   "mimetype": "text/x-python",
   "name": "python",
   "nbconvert_exporter": "python",
   "pygments_lexer": "ipython3",
   "version": "3.8.3"
  },
  "toc": {
   "base_numbering": 1,
   "nav_menu": {},
   "number_sections": true,
   "sideBar": true,
   "skip_h1_title": true,
   "title_cell": "Table of Contents",
   "title_sidebar": "Contents",
   "toc_cell": false,
   "toc_position": {},
   "toc_section_display": true,
   "toc_window_display": false
  }
 },
 "nbformat": 4,
 "nbformat_minor": 2
}
